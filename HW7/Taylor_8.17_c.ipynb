{
 "cells": [
  {
   "cell_type": "markdown",
   "metadata": {},
   "source": [
    "# Orbit games\n",
    "\n",
    "We consider energy plots and orbital solutions in polar coordinates for the general potential energy\n",
    "\n",
    "$\\begin{align}\n",
    "   U(r) = k r^n\n",
    "\\end{align}$"
   ]
  },
  {
   "cell_type": "code",
   "execution_count": 1,
   "metadata": {},
   "outputs": [],
   "source": [
    "import numpy as np\n",
    "import matplotlib.pyplot as plt\n",
    "from scipy.integrate import solve_ivp"
   ]
  },
  {
   "cell_type": "code",
   "execution_count": 2,
   "metadata": {},
   "outputs": [],
   "source": [
    "# Change the common font size\n",
    "font_size = 14\n",
    "plt.rcParams.update({'font.size': font_size})"
   ]
  },
  {
   "cell_type": "code",
   "execution_count": 3,
   "metadata": {},
   "outputs": [],
   "source": [
    "class Orbit:\n",
    "    \"\"\"\n",
    "    Potentials and associated differential equations for central force motion\n",
    "    with the potential U(r) = k r^n.\n",
    "    \"\"\"\n",
    "    \n",
    "    def __init__(self, ang_mom=1, n=1, k=1, mu=1):\n",
    "        self.ang_mom = ang_mom\n",
    "        self.n = n\n",
    "        self.k = k\n",
    "        self.mu = mu\n",
    "    \n",
    "    def U(self, r):\n",
    "        \"\"\"Potential energy of the form U = kr^n.\"\"\"\n",
    "        return self.k * r**self.n\n",
    "    \n",
    "    def Ucf(self, r):\n",
    "        \"\"\"Centrifugal potential energy\"\"\"\n",
    "        return self.ang_mom**2 / (2. * self.mu * r**2)\n",
    "    \n",
    "    def Ueff(self, r):\n",
    "        \"\"\"Effective potential energy\"\"\"\n",
    "        return self.U(r) + self.Ucf(r)\n",
    "    \n",
    "    def U_deriv(self, r):\n",
    "        \"\"\"dU/dr\"\"\"\n",
    "        return self.n * self.k * r**(self.n - 1)\n",
    "        \n",
    "    def Ucf_deriv(self, r):\n",
    "        \"\"\"dU_cf/dr\"\"\"\n",
    "        return -2. * self.ang_mom**2 / (2. * self.mu * r**3)\n",
    "        \n",
    "    def Ueff_deriv(self, r):\n",
    "        \"\"\"dU_eff/dr\"\"\"\n",
    "        return self.U_deriv(r) + self.Ucf_deriv(r)\n",
    "        \n",
    "    def dy_dt(self, t, y):\n",
    "        \"\"\"\n",
    "        This function returns the right-hand side of the diffeq: \n",
    "        [dr/dt d^2r/dt^2 dphi/dt]\n",
    "        \n",
    "        Parameters\n",
    "        ----------\n",
    "        t : float\n",
    "            time \n",
    "        y : float\n",
    "            3-component vector with y[0] = r(t), y[1] = dr/dt, y[2] = dphi/dt\n",
    "            \n",
    "        \"\"\"\n",
    "        return [ y[1], \n",
    "                -1./self.mu * self.Ueff_deriv(y[0]), \n",
    "                self.ang_mom / (self.mu * y[0]**2) ]\n",
    "    \n",
    "    \n",
    "    def solve_ode(self, t_pts, r_0, r_dot_0, phi_0, \n",
    "                  abserr=1.0e-12, relerr=1.0e-12):\n",
    "        \"\"\"\n",
    "        Solve the ODE given initial conditions.\n",
    "        For now use odeint, but we have the option to switch.\n",
    "        Specify smaller abserr and relerr to get more precision.\n",
    "        \"\"\"\n",
    "        y = [r_0, r_dot_0, phi_0]  \n",
    "        solution = solve_ivp(self.dy_dt, (t_pts[0], t_pts[-1]), \n",
    "                             y, t_eval=t_pts, \n",
    "                             atol=abserr, rtol=relerr)\n",
    "        r, r_dot, phi = solution.y\n",
    "        return r, r_dot, phi\n",
    "    \n",
    "    def energy(self, t_pts, r, r_dot):\n",
    "        \"\"\"Evaluate the energy as a function of time\"\"\"\n",
    "        return (self.mu/2.) * r_dot**2 + self.Ueff(r)"
   ]
  },
  {
   "cell_type": "code",
   "execution_count": 4,
   "metadata": {},
   "outputs": [],
   "source": [
    "def start_stop_indices(t_pts, plot_start, plot_stop):\n",
    "    start_index = (np.fabs(t_pts-plot_start)).argmin()  # index in t_pts array \n",
    "    stop_index = (np.fabs(t_pts-plot_stop)).argmin()  # index in t_pts array \n",
    "    return start_index, stop_index"
   ]
  },
  {
   "cell_type": "markdown",
   "metadata": {},
   "source": [
    "# Spring: $n = 2$"
   ]
  },
  {
   "cell_type": "markdown",
   "metadata": {},
   "source": [
    "## Orbit (time dependence)"
   ]
  },
  {
   "cell_type": "markdown",
   "metadata": {},
   "source": [
    "We'll directly solve the equations for r(t) and phi(t)."
   ]
  },
  {
   "cell_type": "markdown",
   "metadata": {},
   "source": [
    "## Energy versus time"
   ]
  },
  {
   "cell_type": "code",
   "execution_count": 34,
   "metadata": {},
   "outputs": [],
   "source": [
    "\n",
    "\n",
    "\n",
    "o1 = Orbit(ang_mom=1., n=-1., k=-1, mu=1.)\n",
    "o2 = Orbit(ang_mom=1., n=1., k=1., mu=1.)\n",
    "o3 = Orbit(ang_mom=1., n=2., k=1., mu=1.)\n",
    "o4 = Orbit(ang_mom=1., n=3., k=1., mu=1.)\n",
    "o5 = Orbit(ang_mom=1., n=7., k=1., mu=1.)\n",
    "\n",
    "from scipy.integrate import simps\n",
    "\n",
    "def Virial(orbit, t_end, t_delta):\n",
    "    t_pts = np.arange(0, t_end+t_delta, t_delta)\n",
    "    t_range = t_pts[-1] - t_pts[0]\n",
    "    \n",
    "    r_0 = 1.\n",
    "    r_dot_0 = 0.\n",
    "    phi_0 = 0.0\n",
    "    r_pts, r_dot_pts, phi_pts = orbit.solve_ode(t_pts, r_0, r_dot_0, phi_0)\n",
    "    U_pts = orbit.U(r_pts)\n",
    "    T_pts = orbit.energy(t_pts, r_pts, r_dot_pts) - U_pts\n",
    "\n",
    "    T_avg = simps(T_pts, t_pts, delta_t) /t_range\n",
    "    U_avg = simps(U_pts, t_pts, delta_t) /t_range\n",
    "    #print(rf'{T_avg1:.5f}', rf'{o1.n*U_avg1/2:.5f}')\n",
    "    print(orbit.n)\n",
    "    return np.abs(T_avg - orbit.n*U_avg/2.)"
   ]
  },
  {
   "cell_type": "code",
   "execution_count": 37,
   "metadata": {},
   "outputs": [
    {
     "name": "stdout",
     "output_type": "stream",
     "text": [
      "For t_end =10.0\n",
      "-1.0\n",
      "0.00000000\n",
      "1.0\n",
      "0.00000000\n",
      "2.0\n",
      "0.00017567\n",
      "3.0\n",
      "0.01680851\n",
      "7.0\n",
      "0.03982032\n",
      "For t_end =100.0\n",
      "-1.0\n",
      "0.00000000\n",
      "1.0\n",
      "0.00000000\n",
      "2.0\n",
      "0.00017538\n",
      "3.0\n",
      "0.00242524\n",
      "7.0\n",
      "0.00069464\n",
      "For t_end =1000.0\n",
      "-1.0\n",
      "0.00000000\n",
      "1.0\n",
      "0.00000000\n",
      "2.0\n",
      "0.00014815\n",
      "3.0\n",
      "0.00026278\n",
      "7.0\n",
      "0.00019153\n"
     ]
    }
   ],
   "source": [
    "tEnd = [10., 100., 1000.]\n",
    "for i in range(3):\n",
    "    print(\"For t_end =\"+str(tEnd[i]))\n",
    "    print(rf'{Virial(o1, t_end=tEnd[i], t_delta=0.01):.8f}')\n",
    "    print(rf'{Virial(o2, t_end=tEnd[i], t_delta=0.01):.8f}')\n",
    "    print(rf'{Virial(o3, t_end=tEnd[i], t_delta=0.01):.8f}')\n",
    "    print(rf'{Virial(o4, t_end=tEnd[i], t_delta=0.01):.8f}')\n",
    "    print(rf'{Virial(o5, t_end=tEnd[i], t_delta=0.01):.8f}')\n"
   ]
  },
  {
   "cell_type": "code",
   "execution_count": null,
   "metadata": {},
   "outputs": [],
   "source": []
  },
  {
   "cell_type": "code",
   "execution_count": null,
   "metadata": {},
   "outputs": [],
   "source": []
  }
 ],
 "metadata": {
  "kernelspec": {
   "display_name": "Python 3",
   "language": "python",
   "name": "python3"
  },
  "language_info": {
   "codemirror_mode": {
    "name": "ipython",
    "version": 3
   },
   "file_extension": ".py",
   "mimetype": "text/x-python",
   "name": "python",
   "nbconvert_exporter": "python",
   "pygments_lexer": "ipython3",
   "version": "3.7.1"
  }
 },
 "nbformat": 4,
 "nbformat_minor": 2
}
