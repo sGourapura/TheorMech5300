{
 "cells": [
  {
   "cell_type": "markdown",
   "metadata": {},
   "source": [
    "## Brachistochrone problem (static)\n",
    "\n",
    "Adapted from https://scipython.com/blog/the-brachistochrone-problem/.\n",
    "\n",
    "* v1: Last revised 13-Feb-2019 by Dick Furnstahl (furnstahl.1@osu.edu).\n"
   ]
  },
  {
   "cell_type": "markdown",
   "metadata": {},
   "source": [
    "We assume that the curve starts at $(x_1, y_1) = (0, 0)$ and use the solution for the cycloid:\n",
    "\n",
    "$\\begin{align}\n",
    "  x &= a (\\theta - \\sin\\theta) \\\\\n",
    "  y &= a (1 - \\cos\\theta) \\;.\n",
    "\\end{align}$\n",
    "\n",
    "We want to be solve the problem with a specified final point $(x_2, y_2)$, which means finding $a$ and $\\theta_2$ (note that $\\theta_1 = 0$).  We can find $\\theta_2$ from the ratio:\n",
    "\n",
    "$\\begin{align}\n",
    "  \\frac{y_2}{x_2} = \\frac{1 - \\cos\\theta_2}{\\theta_2 - \\sin\\theta_2}  \\,\n",
    "\\end{align}$\n",
    "\n",
    "which we solve numerically by finding where the difference of the two sides is zero as a function of $\\theta_2$.  We use the `scipy.integrate` function [`newton`](https://docs.scipy.org/doc/scipy/reference/generated/scipy.optimize.newton.html#scipy.optimize.newton), which implements the [Newton-Raphson method](https://en.wikipedia.org/wiki/Newton%27s_method) for finding roots of an equation.\n",
    "\n",
    "With $\\theta_2$ known, $a$ is given by \n",
    "\n",
    "$\\begin{align}\n",
    "  a = \\frac{y_2}{1 - \\cos\\theta_2} \\;.\n",
    "\\end{align}$"
   ]
  },
  {
   "cell_type": "markdown",
   "metadata": {},
   "source": [
    "For alternative paths, we consider a circle, a parabola, and a straight line.    The functional for the time to be minimized is:\n",
    "\n",
    "$\\begin{align}\n",
    "  \\mbox{time}(1\\rightarrow 2)\n",
    "   = \\frac{1}{\\sqrt{2g}} \\int_{0}^{x_2} \\frac{\\sqrt{1 + y'(x)^2}}{\\sqrt{y(x)}} dx \n",
    "  \\;,\n",
    "\\end{align}$\n",
    "\n",
    "which is written with $y(x)$ and $dx$ (i.e., an integral over $x$) rather than $x(y)$ and $dy$ as in Taylor.  (We still measure positive $y$ to be downward from the origin, in the same direction as gravity.)  \n",
    "\n",
    "We evaluate the functional numerically in all cases, even when we could do it algebraically."
   ]
  },
  {
   "cell_type": "code",
   "execution_count": 3,
   "metadata": {},
   "outputs": [],
   "source": [
    "import numpy as np\n",
    "import matplotlib.pyplot as plt\n",
    "\n",
    "from scipy.optimize import newton\n",
    "from scipy.integrate import quad\n",
    "\n",
    "%matplotlib inline"
   ]
  },
  {
   "cell_type": "code",
   "execution_count": 13,
   "metadata": {},
   "outputs": [],
   "source": [
    "def functional(x, f, df_dx):\n",
    "    \"\"\"The integrand of the time integral to be minimized for a path f(x).\"\"\"\n",
    "\n",
    "    return np.sqrt((1. + df_dx(x)**2) / (2 * g * f(x)))\n",
    "\n",
    "\n",
    "def cycloid(x_2, y_2, N=100):\n",
    "    \"\"\"Return the path of Brachistochrone curve from (0, 0) to (x_2, y_2).\n",
    "\n",
    "    The Brachistochrone curve is the path down which a bead will slide without\n",
    "    friction between two points in the least time (an arc of a cycloid).\n",
    "    Returned as an array of N values of (x, y) between (0, 0) and (x_2, y_2).\n",
    "\n",
    "    Solves for the value of theta_2 to correspond to (x_2, y_2), assuming\n",
    "    it starts from the origin, from the given ratio of y_2/x_2, which should\n",
    "    equal \n",
    "    \"\"\"\n",
    "\n",
    "    # First find theta_2 from (x_2, y_2) numerically (by Newton-Rapheson).\n",
    "    def find_theta(theta):\n",
    "        \"\"\"Equation that will be zero for theta=theta_2 with \n",
    "            (x, y) = (x_2, y_2).\"\"\"\n",
    "        return y_2/x_2 - (1. - np.cos(theta))/(theta - np.sin(theta))\n",
    "    theta_2 = newton(find_theta, np.pi/2.)  # Second argument is first guess.\n",
    "\n",
    "    # The radius of the circle generating the cycloid\n",
    "    a = y_2 / (1. - np.cos(theta_2))\n",
    "\n",
    "    # Set up array of x and y points from the origin to (x_2, y_2)\n",
    "    theta_1 = 0.\n",
    "    theta_pts = np.linspace(theta_1, theta_2, N)\n",
    "    x_pts = a * (theta_pts - np.sin(theta_pts))\n",
    "    y_pts = a * (1. - np.cos(theta_pts))\n",
    "\n",
    "    # The time of travel\n",
    "    T = theta_2 * np.sqrt(a / g)\n",
    "    print(f'T(cycloid) = {T:.3f}')\n",
    "    return x_pts, y_pts, T\n",
    "\n",
    "\n",
    "def parabola(x_2, y_2, N=100):\n",
    "    \"\"\"Return the path of a parabolic arc between (0,0) to (x_2, y_2).\n",
    "\n",
    "    The parabola used is the one with a vertical tangent at (0,0).\n",
    "\n",
    "    \"\"\"\n",
    "\n",
    "    c = y_2**2/x_2\n",
    "\n",
    "    def f_parabola(x):\n",
    "        \"\"\"Equation of a parabola going through the origin and (x_2, y_2).\"\"\"\n",
    "        return np.sqrt(c*x)\n",
    "    def df_parabola_dx(x):\n",
    "        return c/2/f_parabola(x)\n",
    "\n",
    "    x_pts = np.linspace(0, x_2, N)\n",
    "    y_pts = f_parabola(x_pts)\n",
    "\n",
    "    # Calculate the time of travel by numerical integration.\n",
    "    T, T_error = quad(functional, 0., x_2, args=(f_parabola, df_parabola_dx))\n",
    "    \n",
    "    print(f'T(parabola) = {T:.3f}')\n",
    "    return x_pts, y_pts, T\n",
    "\n",
    "\n",
    "def circle(x_2, y_2, N=100):\n",
    "    \"\"\"Return the path of a circular arc between (0,0) to (x_2, y_2).\n",
    "\n",
    "    The circle used is the one with a vertical tangent at (0,0).\n",
    "\n",
    "    \"\"\"\n",
    "\n",
    "    # Circle radius\n",
    "    r = x_2\n",
    "\n",
    "    def f_circle(x):\n",
    "        return np.sqrt(r**2-(x-r)**2)\n",
    "    def df_circle_dx(x):\n",
    "        return (r-x)/f_circle(x)\n",
    "\n",
    "    x_pts = np.linspace(0, x_2, N)\n",
    "    y_pts = f_circle(x_pts)\n",
    "\n",
    "    # Calculate the time of travel by numerical integration.\n",
    "    T, T_error = quad(functional, 0., x_2, args=(f_circle, df_circle_dx))\n",
    "    print(f'T(circle) = {T:.3f}')\n",
    "    return x_pts, y_pts, T\n",
    "\n",
    "\n",
    "def linear(x_2, y_2, N=100):\n",
    "    \"\"\"Return the path of a straight line from (0,0) to (x_2, y_2).\"\"\"\n",
    "\n",
    "    m = y_2/x_2\n",
    "\n",
    "\n",
    "    def f_linear(x):\n",
    "        return m*x\n",
    "    def df_linear_dx(x):\n",
    "        return m\n",
    "    \n",
    "    x_pts = np.linspace(0, x_2, N)\n",
    "    y_pts = f_linear(x_pts)\n",
    "    \n",
    "    # Calculate time of travel\n",
    "    T, T_error = quad(functional, 0., x_2, args=(f_linear, df_linear_dx))\n",
    "\n",
    "    print(f'T(linear) = {T:.3f}')\n",
    "    return x_pts, y_pts, T\n"
   ]
  },
  {
   "cell_type": "code",
   "execution_count": 15,
   "metadata": {},
   "outputs": [
    {
     "name": "stdout",
     "output_type": "stream",
     "text": [
      "T(cycloid) = 0.583\n",
      "T(parabola) = 0.584\n",
      "T(circle) = 0.592\n",
      "T(linear) = 0.639\n"
     ]
    },
    {
     "data": {
      "image/png": "[encoded data removed]",
      "text/plain": [
       "<Figure size 360x360 with 1 Axes>"
      ]
     },
     "metadata": {
      "needs_background": "light"
     },
     "output_type": "display_data"
    }
   ],
   "source": [
    "# Acceleration due to gravity (mks units); final position of bead (m).\n",
    "g = 9.81\n",
    "# Needs x_2 = y_2 for the circle plot\n",
    "x_2, y_2 = 1., 1. #0.65\n",
    "\n",
    "# Plot a figure comparing the four paths.\n",
    "fig = plt.figure(figsize=(5,5))\n",
    "ax = fig.add_subplot(1,1,1)\n",
    "\n",
    "### for curve in ('cycloid', 'parabola', 'circle', 'linear'):\n",
    "for curve in ('cycloid', 'parabola', 'circle', 'linear'):\n",
    "    x, y, T = globals()[curve](x_2, y_2)\n",
    "    ax.plot(x, y, lw=3, alpha=0.5, label=f'{curve}: {T:.3f} s')\n",
    "ax.legend()\n",
    "\n",
    "ax.set_xlabel('$x$')\n",
    "ax.set_ylabel('$y$')\n",
    "ax.set_xlim(0, x_2)\n",
    "ax.set_ylim(1, 0)\n",
    "plt.savefig('PS6_2_plot.png')\n",
    "plt.show()"
   ]
  },
  {
   "cell_type": "code",
   "execution_count": null,
   "metadata": {},
   "outputs": [],
   "source": []
  }
 ],
 "metadata": {
  "kernelspec": {
   "display_name": "Python 3",
   "language": "python",
   "name": "python3"
  },
  "language_info": {
   "codemirror_mode": {
    "name": "ipython",
    "version": 3
   },
   "file_extension": ".py",
   "mimetype": "text/x-python",
   "name": "python",
   "nbconvert_exporter": "python",
   "pygments_lexer": "ipython3",
   "version": "3.7.1"
  }
 },
 "nbformat": 4,
 "nbformat_minor": 2
}
