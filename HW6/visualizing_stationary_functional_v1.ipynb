{
 "cells": [
  {
   "cell_type": "markdown",
   "metadata": {},
   "source": [
    "# Visualizing stationary paths of a  functional\n",
    "\n",
    "Last revised: 02-Feb-2019 by Dick Furnstahl [furnstahl.1@osu.edu]"
   ]
  },
  {
   "cell_type": "markdown",
   "metadata": {},
   "source": [
    "Consider the functional\n",
    "\n",
    "$\\begin{align}\n",
    "  S = \\int_{x_1}^{x_2} f[y(x), y'(x), x] \\, dx\n",
    "\\end{align}$\n",
    "\n",
    "with $y_1 = y(x_1)$ and $y_2 = y(x_2)$ fixed.  We denote by $y^*(x)$ the path that minimizes $S$ (or, more generally, makes it stationary).  Then we consider the class of candidate paths $y(x)$ given by\n",
    "\n",
    "$\\begin{align}\n",
    "  y(x) = y^*(x) + \\alpha \\eta(x)\n",
    "\\end{align}$\n",
    "\n",
    "where $\\eta(x)$ is some function that vanishes at the endpoints: $\\eta(x_1) = \\eta(x_2) = 0$.  We can derive the Euler-Lagrange equations by minimizing $S(\\alpha)$ with respect to $\\alpha$.  \n",
    "\n",
    "Here we visualize this problem by considering a particular $S$, choosing among some possible $\\eta(x)$ definitions, and seeing how $S$ is minimized with respect to $\\alpha$.  We will also allow for an incorrect determination of $y^*(x)$, in which case we expect that the minimum alpha will give us a reasonable reproduction of the true $y^*(x)$.  The variation of $\\alpha$ and the choice of functions will be made using widgets from `ipywidgets`.\n",
    "\n"
   ]
  },
  {
   "cell_type": "markdown",
   "metadata": {},
   "source": [
    "## Looking at a plot of the functional evaluation versus $\\alpha$"
   ]
  },
  {
   "cell_type": "markdown",
   "metadata": {},
   "source": [
    "\\[We'll use `%matplotlib notebook` so that we can modify figures without redrawing them.\\]"
   ]
  },
  {
   "cell_type": "code",
   "execution_count": null,
   "metadata": {},
   "outputs": [],
   "source": [
    "%matplotlib notebook"
   ]
  },
  {
   "cell_type": "code",
   "execution_count": null,
   "metadata": {},
   "outputs": [],
   "source": [
    "import numpy as np\n",
    "import matplotlib.pyplot as plt\n",
    "\n",
    "import ipywidgets as widgets\n",
    "from IPython.display import display\n"
   ]
  },
  {
   "cell_type": "markdown",
   "metadata": {},
   "source": [
    "### Functional from Taylor problem 6.9\n",
    "\n",
    "This problem states: \"Find the equation of the path from the origin $O$ to the point $P(1,1)$ in the $xy$ plane that makes the integral $\\int_O^P (y'^2 + y y' + y^2)$ stationary.  The answer from solving the Euler-Lagrange equation is $y^*(x) = \\sinh(x)/\\sinh(1)$."
   ]
  },
  {
   "cell_type": "code",
   "execution_count": null,
   "metadata": {},
   "outputs": [],
   "source": [
    "def y_star(x):\n",
    "    \"\"\"Path that minimizes the functional in Taylor problem 6.9.\"\"\"\n",
    "    return np.sinh(x) / np.sinh(1.)"
   ]
  },
  {
   "cell_type": "code",
   "execution_count": null,
   "metadata": {
    "scrolled": false
   },
   "outputs": [],
   "source": [
    "delta_x = 0.001\n",
    "x_pts = np.arange(0., 1., delta_x)\n",
    "\n",
    "fig = plt.figure(figsize=(6,3), \n",
    "                 num='Visualizing stationary paths of a functional')\n",
    "ax1 = fig.add_subplot(1,2,1)\n",
    "ax2 = fig.add_subplot(1,2,2)\n",
    "\n",
    "def setup_figure():\n",
    "    ax1.set_title('Show paths')\n",
    "    ax1.plot(x_pts, y_star(x_pts), color='black', lw=2)\n",
    "    ax1.set_xlabel('x')\n",
    "    ax1.set_ylabel('y(x)')\n",
    "    \n",
    "    ax2.set_title('Evaluate functional')\n",
    "    ax2.set_xlabel(r'$\\alpha$')\n",
    "    ax2.set_ylabel('functional')\n",
    "    ax2.set_xlim(-0.4, 0.4)\n",
    "    ax2.set_ylim(1.5, 3.)\n",
    "    #ax2.axvline(0., color='black', alpha=0.3)\n",
    "    ax2.axhline(evaluate_functional(x_pts, y_star(x_pts)), \n",
    "                                    color='black', alpha=0.3)\n",
    "    \n",
    "    fig.tight_layout()\n",
    "\n",
    "def evaluate_functional(x_pts, y_pts):\n",
    "    \"\"\"Given arrays of x and y points, evaluate the functional from 6.9.\"\"\"\n",
    "    # The numpy gradient function takes the derivative of an array y_pts\n",
    "    #  that is a function of points x in x_pts.\n",
    "    y_deriv_pts = np.gradient(y_pts, x_pts)\n",
    "    f = y_deriv_pts**2 + y_pts * y_deriv_pts + y_pts**2\n",
    "    \n",
    "    # Use the numpy trapezoid rule (trapz) to do the integral over f.\n",
    "    return np.trapz(f, x_pts)\n",
    "\n",
    "def make_path(alpha, ax1_passed, ax2_passed,\n",
    "              base_function='exact', eta_function='sine'):\n",
    "    \"\"\"Given a base function, which may be the exact y^*(x) or a guess that\n",
    "       is not correct, generate and plot the path corresponding to adding\n",
    "       alpha*eta(x) to the base function, with eta(x) chosen among some\n",
    "       functions that vanish at the endpoints in x.\n",
    "    \"\"\"\n",
    "    # map x_pts to zero to 1 (it may already be there)\n",
    "    x_mapped_pts = (x_pts - x_pts[0]) / (x_pts[-1] - x_pts[0])\n",
    "\n",
    "    # Choices for the base function\n",
    "    if (base_function == 'exact'):\n",
    "        base = lambda x : y_star(x)\n",
    "    elif (base_function == 'guess 1'):\n",
    "        base = lambda x : np.sinh(2.*x) / np.sinh(2.)\n",
    "    elif (base_function == 'guess 2'):\n",
    "        base = lambda x : x**3\n",
    "    \n",
    "    if (eta_function == 'sine'):\n",
    "        eta = lambda x : np.sin(np.pi * x)\n",
    "    elif (eta_function == 'parabola'):\n",
    "        eta = lambda x : 4. * x * (1. - x)\n",
    "\n",
    "    y_new_pts = base(x_pts) + alpha * eta(x_mapped_pts)\n",
    "\n",
    "    ax1_passed.plot(x_pts, y_new_pts, color='red', lw=1)\n",
    "    ax2_passed.plot(alpha, evaluate_functional(x_pts, y_new_pts), '.',\n",
    "                    color='red')\n",
    "\n",
    "def reset_graph(event):\n",
    "    ax1.clear()\n",
    "    ax2.clear()\n",
    "    setup_figure()\n",
    "    \n",
    "button = widgets.Button(\n",
    "    description='reset graph'\n",
    ")\n",
    "button.on_click(reset_graph)\n",
    " \n",
    "widgets.interact(make_path, \n",
    "                 alpha=widgets.FloatSlider(min=-1., max=1., step=.05,\n",
    "                                           value=0.0, description=r'$\\alpha$', \n",
    "                                           continuous_update=False), \n",
    "                 ax1_passed=widgets.fixed(ax1), \n",
    "                 ax2_passed=widgets.fixed(ax2),\n",
    "                 base_function=widgets.Dropdown(options=['exact', 'guess 1',\n",
    "                                                         'guess 2'],\n",
    "                                                value='exact',\n",
    "                                                description='base function'),\n",
    "                 eta_function=widgets.Dropdown(options=['sine', 'parabola'],\n",
    "                                               value='sine',\n",
    "                                               description=r'$\\eta(x)$')\n",
    "                )\n",
    "\n",
    "setup_figure()    \n",
    "button"
   ]
  },
  {
   "cell_type": "code",
   "execution_count": null,
   "metadata": {},
   "outputs": [],
   "source": []
  }
 ],
 "metadata": {
  "kernelspec": {
   "display_name": "Python 3",
   "language": "python",
   "name": "python3"
  },
  "language_info": {
   "codemirror_mode": {
    "name": "ipython",
    "version": 3
   },
   "file_extension": ".py",
   "mimetype": "text/x-python",
   "name": "python",
   "nbconvert_exporter": "python",
   "pygments_lexer": "ipython3",
   "version": "3.6.6"
  }
 },
 "nbformat": 4,
 "nbformat_minor": 2
}
