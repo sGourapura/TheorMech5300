{
 "cells": [
  {
   "cell_type": "code",
   "execution_count": 10,
   "metadata": {},
   "outputs": [
    {
     "data": {
      "text/plain": [
       "(-0.1097420216417238, 3.3967445726874903, 0.7317289631661728)"
      ]
     },
     "execution_count": 10,
     "metadata": {},
     "output_type": "execute_result"
    }
   ],
   "source": [
    "import numpy as np\n",
    "\n",
    "def sin(x):\n",
    "    return np.sin(x)\n",
    "def cos(x):\n",
    "    return np.cos(x)\n",
    "\n",
    "def eval(g, mvec, lvec, thvec, zvec):\n",
    "    m1, m2, m3 = mvec\n",
    "    L1, L2, L3 = lvec\n",
    "    th1, th2, th3 = thvec\n",
    "    z1sq, z2sq, z3sq = zvec[0]**2, zvec[1]**2, zvec[2]**2,\n",
    "\n",
    "    \n",
    "    y_dot = np.zeros((6))\n",
    "    \n",
    "    denom = m2*(2*m1+m2)+(m1+m2)*m3-m2*(m2+m3)*cos(2*(th1-th2)) \\\n",
    "            -m1*m3*cos(2*(th2-th3))\n",
    "    # Now do d^2 phi_1/dt^2 \n",
    "    y_dot[1]= -(g*(m2*(m2+m3)+m1*(2*m2+m3)-m1*m3*cos(2*(th2-th3))) \\\n",
    "        *sin(th1)+g*m2*(m2+m3)*sin(th1-2*th2)+2*m2*sin(th1-th2) \\\n",
    "        *((m2+m3)*(L1*cos(th1-th2)*z1sq+L2*z2sq)+L3*m3*cos(th2-th3) \\\n",
    "        *z3sq))/(L1*denom)                    \n",
    "        \n",
    "    # Next do d^2 phi_2/dt^2 \n",
    "    y_dot[3]= (g*cos(th1)*((2*m2*(m1+m2)+(m1+2*m2)*m3)*sin(th1-th2)-m1*m3*sin(th1+th2-2*th3))\n",
    "        +L1*((2*m2*(m1+m2)+(m1+2*m2)*m3)*sin(th1-th2)-m1*m3*sin(th1+th2-2*th3))*z1sq \\\n",
    "        +L2*(m2*(m2+m3)*sin(2*(th1-th2))-m1*m3*sin(2*(th2-th3)))*z2sq \\\n",
    "        +2*L3*m3*(m2*cos(th1-th3)*sin(th1-th2)-m1*sin(th2-th3))*z3sq) \\\n",
    "        /(L2*denom)\n",
    "    \n",
    "    # Finally do d^2 phi_3/dt^2\n",
    "    y_dot[5]= (2*m1*sin(th2-th3)*((m2+m3)*(cos(th1-th2)*(g*cos(th1)+L1*z1sq)+L2*z2sq) \\\n",
    "            +L3*m3*cos(th2-th3)*z3sq))/(L3*denom)\n",
    "    \n",
    "    return y_dot[1], y_dot[3], y_dot[5]\n",
    "\n",
    "eval(1., [1,1,1], [1,1,1], [1,5,1], [1,1,2] )"
   ]
  },
  {
   "cell_type": "code",
   "execution_count": null,
   "metadata": {},
   "outputs": [],
   "source": [
    "\n",
    "'''\n",
    "        x1 = Function('x1')\n",
    "        y1 = Function('y1')\n",
    "        x2 = Function('x2')\n",
    "        y2 = Function('y2')\n",
    "        \n",
    "        T =   0.5*m1*(diff(x1(t), t)**2 + diff(y1(t), t)**2)  \\\n",
    "            + 0.5*m2*(diff(x2(t), t)**2 + diff(y2(t), t)**2)\n",
    "        \n",
    "        U = m1*g*(L1-y1(t)) + m2*g*(L1-y1(t) + L2-y2(t))\n",
    "        dx1_dt = diff(L1*sin(phi1(t)), t)\n",
    "        dy1_dt = diff(L1*cos(phi1(t)), t)\n",
    "        dx2_dt = diff(L2*sin(phi1(t)), t)\n",
    "        dy2_dt = diff(L2*cos(phi1(t)), t)\n",
    "        \n",
    "        polarConversion = [(x1(t), L1*sin(phi1(t))),(y1(t), L1*cos(phi1(t))), \\\n",
    "                           (x2(t), L2*sin(phi2(t))),(y2(t), L2*cos(phi2(t))), \\\n",
    "                           (diff(x1(t), t), diff(L1*sin(phi1(t)), t)), (diff(y1(t), t), diff(L1*cos(phi1(t)), t)), \\\n",
    "                           (diff(x2(t), t), diff(L2*sin(phi1(t)), t)),(diff(y2(t), t), diff(L2*cos(phi1(t)), t))]\n",
    "        \n",
    "        T = T.subs(polarConversion)\n",
    "        U = U.subs(polarConversion)\n",
    "        display(simplify(T))\n",
    "        L = T-U\n",
    "        \n",
    "        # Phi_1 Equations\n",
    "        dL_dPhi1 = diff(L, phi1(t))\n",
    "        dL_dPhiDot1 = diff(L, diff(phi1(t), t))\n",
    "        display('L', L)\n",
    "        display('dL_dPhi1', dL_dPhi1)\n",
    "        display('dL_dPhiDot1', dL_dPhiDot1)\n",
    "        display(dL_dPhiDot1 - dL_dPhi1)\n",
    "'''            "
   ]
  }
 ],
 "metadata": {
  "kernelspec": {
   "display_name": "Python 3",
   "language": "python",
   "name": "python3"
  },
  "language_info": {
   "codemirror_mode": {
    "name": "ipython",
    "version": 3
   },
   "file_extension": ".py",
   "mimetype": "text/x-python",
   "name": "python",
   "nbconvert_exporter": "python",
   "pygments_lexer": "ipython3",
   "version": "3.7.1"
  }
 },
 "nbformat": 4,
 "nbformat_minor": 2
}
