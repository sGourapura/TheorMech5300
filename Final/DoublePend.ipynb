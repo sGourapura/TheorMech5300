{
 "cells": [
  {
   "cell_type": "markdown",
   "metadata": {},
   "source": [
    "## Double Pendulum\n",
    "\n",
    "$T = \\frac{1}{2} (m_1+m_2)L_1^2 \\dot{\\phi_1}^2 + m_2 L_1 L_2 \\dot{\\phi_1}\\dot{\\phi_2} \\cos{(\\phi_1 - \\phi_2)} + \\frac{1}{2}m_2 L_2^2 \\dot{\\phi_2}^2 $\n",
    "\n",
    "$U = (m_1 + m_2)g L_1 (1-\\cos{\\phi_1}) + m_2 g L_2 (1-\\cos{\\phi_2})$"
   ]
  },
  {
   "cell_type": "code",
   "execution_count": null,
   "metadata": {},
   "outputs": [],
   "source": []
  }
 ],
 "metadata": {
  "kernelspec": {
   "display_name": "Python 3",
   "language": "python",
   "name": "python3"
  },
  "language_info": {
   "codemirror_mode": {
    "name": "ipython",
    "version": 3
   },
   "file_extension": ".py",
   "mimetype": "text/x-python",
   "name": "python",
   "nbconvert_exporter": "python",
   "pygments_lexer": "ipython3",
   "version": "3.7.1"
  }
 },
 "nbformat": 4,
 "nbformat_minor": 2
}
