{
 "cells": [
  {
   "cell_type": "markdown",
   "metadata": {},
   "source": [
    "# Multiple pendulum plots. Section 12.4: Approach to Chaos\n",
    "\n",
    "Use Pendulum class to generate basic pendulum plots.  Applied here to figures from Taylor Section 12.4.\n",
    "\n",
    "* Last revised 23-Jan-2019 by Dick Furnstahl (furnstahl.1@osu.edu)."
   ]
  },
  {
   "cell_type": "code",
   "execution_count": 1,
   "metadata": {},
   "outputs": [],
   "source": [
    "%matplotlib inline"
   ]
  },
  {
   "cell_type": "code",
   "execution_count": 2,
   "metadata": {},
   "outputs": [],
   "source": [
    "import numpy as np\n",
    "from scipy.integrate import odeint\n",
    "\n",
    "import matplotlib.pyplot as plt"
   ]
  },
  {
   "cell_type": "markdown",
   "metadata": {},
   "source": [
    "## Pendulum class and utility functions"
   ]
  },
  {
   "cell_type": "code",
   "execution_count": 3,
   "metadata": {},
   "outputs": [],
   "source": [
    "class Pendulum():\n",
    "    \"\"\"\n",
    "    Pendulum class implements the parameters and differential equation for \n",
    "     a pendulum using the notation from Taylor.\n",
    "     \n",
    "    Parameters\n",
    "    ----------\n",
    "    omega_0 : float\n",
    "        natural frequency of the pendulum (\\sqrt{g/l} where l is the \n",
    "        pendulum length) \n",
    "    beta : float\n",
    "        coefficient of friction \n",
    "    gamma_ext : float\n",
    "        amplitude of external force is gamma * omega_0**2 \n",
    "    omega_ext : float\n",
    "        frequency of external force \n",
    "    phi_ext : float\n",
    "        phase angle for external force \n",
    "\n",
    "    Methods\n",
    "    -------\n",
    "    dy_dt(y, t)\n",
    "        Returns the right side of the differential equation in vector y, \n",
    "        given time t and the corresponding value of y.\n",
    "    driving_force(t) \n",
    "        Returns the value of the external driving force at time t.\n",
    "    \"\"\"\n",
    "    def __init__(self, omega_0=1., beta=0.2,\n",
    "                 gamma_ext=0.2, omega_ext=0.689, phi_ext=0.\n",
    "                ):\n",
    "        self.omega_0 = omega_0\n",
    "        self.beta = beta\n",
    "        self.gamma_ext = gamma_ext\n",
    "        self.omega_ext = omega_ext\n",
    "        self.phi_ext = phi_ext\n",
    "    \n",
    "    def dy_dt(self, y, t):\n",
    "        \"\"\"\n",
    "        This function returns the right-hand side of the diffeq: \n",
    "        [dphi/dt d^2phi/dt^2]\n",
    "        \n",
    "        Parameters\n",
    "        ----------\n",
    "        y : float\n",
    "            A 2-component vector with y[0] = phi(t) and y[1] = dphi/dt\n",
    "        t : float\n",
    "            time \n",
    "            \n",
    "        Returns\n",
    "        -------\n",
    "        \n",
    "        \"\"\"\n",
    "        F_ext = self.driving_force(t)\n",
    "        return [y[1], -self.omega_0**2 * np.sin(y[0]) - 2.*self.beta * y[1] \\\n",
    "                       + F_ext]\n",
    "    \n",
    "    def driving_force(self, t):\n",
    "        \"\"\"\n",
    "        This function returns the value of the driving force at time t.\n",
    "        \"\"\"\n",
    "        return self.gamma_ext * self.omega_0**2 \\\n",
    "                              * np.cos(self.omega_ext*t + self.phi_ext)  \n",
    "    \n",
    "    def solve_ode(self, phi_0, phi_dot_0, abserr=1.0e-8, relerr=1.0e-6):\n",
    "        \"\"\"\n",
    "        Solve the ODE given initial conditions.\n",
    "        For now use odeint, but we have the option to switch.\n",
    "        Specify smaller abserr and relerr to get more precision.\n",
    "        \"\"\"\n",
    "        y = [phi_0, phi_dot_0]  \n",
    "        phi, phi_dot = odeint(self.dy_dt, y, t_pts, \n",
    "                              atol=abserr, rtol=relerr).T\n",
    "        return phi, phi_dot"
   ]
  },
  {
   "cell_type": "code",
   "execution_count": 4,
   "metadata": {},
   "outputs": [],
   "source": [
    "def plot_y_vs_x(x, y, axis_labels=None, label=None, title=None, \n",
    "                color=None, linestyle=None, semilogy=False, loglog=False,\n",
    "                ax=None):\n",
    "    \"\"\"\n",
    "    Generic plotting function: return a figure axis with a plot of y vs. x,\n",
    "    with line color and style, title, axis labels, and line label\n",
    "    \"\"\"\n",
    "    if ax is None:        # if the axis object doesn't exist, make one\n",
    "        ax = plt.gca()\n",
    "\n",
    "    if (semilogy):\n",
    "        line, = ax.semilogy(x, y, label=label, \n",
    "                            color=color, linestyle=linestyle)\n",
    "    elif (loglog):\n",
    "        line, = ax.loglog(x, y, label=label, \n",
    "                          color=color, linestyle=linestyle)\n",
    "    else:\n",
    "        line, = ax.plot(x, y, label=label, \n",
    "                    color=color, linestyle=linestyle)\n",
    "\n",
    "    if label is not None:    # if a label if passed, show the legend\n",
    "        ax.legend()\n",
    "    if title is not None:    # set a title if one if passed\n",
    "        ax.set_title(title)\n",
    "    if axis_labels is not None:  # set x-axis and y-axis labels if passed  \n",
    "        ax.set_xlabel(axis_labels[0])\n",
    "        ax.set_ylabel(axis_labels[1])\n",
    "\n",
    "    return ax, line"
   ]
  },
  {
   "cell_type": "code",
   "execution_count": 5,
   "metadata": {},
   "outputs": [],
   "source": [
    "def start_stop_indices(t_pts, plot_start, plot_stop):\n",
    "    \"\"\"Given an array (e.g., of times) and desired starting and stop values,\n",
    "        return the array indices that are closest to those values.\n",
    "    \"\"\"\n",
    "    start_index = (np.fabs(t_pts-plot_start)).argmin()  # index in t_pts array \n",
    "    stop_index = (np.fabs(t_pts-plot_stop)).argmin()  # index in t_pts array \n",
    "    return start_index, stop_index"
   ]
  },
  {
   "cell_type": "markdown",
   "metadata": {},
   "source": [
    "## Make plots for Taylor Figure 12.4\n",
    "\n",
    "We'll set it up with the specified parameters."
   ]
  },
  {
   "cell_type": "code",
   "execution_count": 6,
   "metadata": {
    "scrolled": false
   },
   "outputs": [],
   "source": [
    "# Labels for individual plot axes\n",
    "phi_vs_time_labels = (r'$t$', r'$\\phi(t)$')\n",
    "phi_dot_vs_time_labels = (r'$t$', r'$d\\phi/dt(t)$')\n",
    "state_space_labels = (r'$\\phi$', r'$d\\phi/dt$')\n",
    "\n",
    "# Common plotting time (generate the full time then use slices)\n",
    "t_start = 0.\n",
    "t_end = 100.\n",
    "delta_t = 0.01\n",
    "\n",
    "t_pts = np.arange(t_start, t_end+delta_t, delta_t)  \n",
    "\n",
    "# Common pendulum parameters\n",
    "gamma_ext = 1.06\n",
    "omega_ext = 2.*np.pi\n",
    "phi_ext = 0.\n",
    "\n",
    "omega_0 = 1.5*omega_ext\n",
    "beta = omega_0/4.\n",
    "\n",
    "# Instantiate a pendulum \n",
    "p1 = Pendulum(omega_0=omega_0, beta=beta, \n",
    "              gamma_ext=gamma_ext, omega_ext=omega_ext, phi_ext=phi_ext)\n",
    "\n",
    "# calculate the driving force for t_pts\n",
    "driving = p1.driving_force(t_pts)\n"
   ]
  },
  {
   "cell_type": "code",
   "execution_count": 7,
   "metadata": {},
   "outputs": [
    {
     "data": {
      "image/png": "[encoded data removed]",
      "text/plain": [
       "<Figure size 1080x360 with 3 Axes>"
      ]
     },
     "metadata": {
      "needs_background": "light"
     },
     "output_type": "display_data"
    }
   ],
   "source": [
    "# initial conditions specified\n",
    "phi_0 = 0.\n",
    "phi_dot_0 = 0.0\n",
    "phi, phi_dot = p1.solve_ode(phi_0, phi_dot_0)\n",
    "\n",
    "# Change the common font size\n",
    "font_size = 14\n",
    "plt.rcParams.update({'font.size': font_size})\n",
    "\n",
    "# start the plot!\n",
    "fig = plt.figure(figsize=(15,5))\n",
    "overall_title = 'Taylor Figure 12.4:  ' + \\\n",
    "                rf' $\\omega = {omega_ext:.2f},$' + \\\n",
    "                rf' $\\gamma = {gamma_ext:.3f},$' + \\\n",
    "                rf' $\\omega_0 = {omega_0:.2f},$' + \\\n",
    "                rf' $\\beta = {beta:.2f},$' + \\\n",
    "                rf'  $\\phi_0 = {phi_0:.2f},$' + \\\n",
    "                rf' $\\dot\\phi_0 = {phi_dot_0:.2f}$' + \\\n",
    "                '\\n'     # \\n means a new line (adds some space here)\n",
    "fig.suptitle(overall_title, va='baseline')\n",
    "    \n",
    "# first plot: plot from t=0 to t=15   \n",
    "ax_a = fig.add_subplot(1,3,1)                  \n",
    "\n",
    "start, stop = start_stop_indices(t_pts, 0., 15.)    \n",
    "plot_y_vs_x(t_pts[start : stop], phi[start : stop], \n",
    "            axis_labels=phi_vs_time_labels, \n",
    "            color='blue',\n",
    "            label=None, \n",
    "            title='Figure 12.4', \n",
    "            ax=ax_a)    \n",
    "                              \n",
    "# second plot: state space plot from t=0 to t=15   \n",
    "ax_b = fig.add_subplot(1,3,2)                  \n",
    "\n",
    "start, stop = start_stop_indices(t_pts, 0., 15.)    \n",
    "plot_y_vs_x(phi[start : stop], phi_dot[start : stop], \n",
    "            axis_labels=state_space_labels, \n",
    "            color='blue',\n",
    "            label=None, \n",
    "            title=rf'$0 \\leq t \\leq 15$', \n",
    "            ax=ax_b)    \n",
    "\n",
    "# third plot: state space plot from t= to t=12   \n",
    "ax_c = fig.add_subplot(1,3,3)                  \n",
    "\n",
    "start, stop = start_stop_indices(t_pts, 10., 30.)    \n",
    "plot_y_vs_x(phi[start : stop], phi_dot[start : stop], \n",
    "            axis_labels=state_space_labels, \n",
    "            color='blue',\n",
    "            label=None, \n",
    "            title=rf'$10 \\leq t \\leq 30$', \n",
    "            ax=ax_c)    \n",
    "\n",
    "fig.tight_layout()\n",
    "fig.savefig('Figure_12.4.png', bbox_inches='tight')  # always bbox_inches='tight'"
   ]
  },
  {
   "cell_type": "markdown",
   "metadata": {},
   "source": [
    "Let's check for periodicity after the transients die out.  Print out phi(t) once every period of the external driving force."
   ]
  },
  {
   "cell_type": "code",
   "execution_count": 8,
   "metadata": {
    "scrolled": false
   },
   "outputs": [
    {
     "name": "stdout",
     "output_type": "stream",
     "text": [
      "   t     phi(t)\n",
      "  50.0   6.0366\n",
      "  51.0   6.0366\n",
      "  52.0   6.0367\n",
      "  53.0   6.0366\n",
      "  54.0   6.0366\n",
      "  55.0   6.0366\n",
      "  56.0   6.0367\n",
      "  57.0   6.0366\n",
      "  58.0   6.0367\n",
      "  59.0   6.0366\n",
      "  60.0   6.0367\n",
      "  61.0   6.0365\n",
      "  62.0   6.0367\n",
      "  63.0   6.0366\n",
      "  64.0   6.0366\n",
      "  65.0   6.0366\n",
      "  66.0   6.0366\n",
      "  67.0   6.0367\n",
      "  68.0   6.0366\n",
      "  69.0   6.0367\n"
     ]
    }
   ],
   "source": [
    "# First pass at periodicity check\n",
    "start, stop = start_stop_indices(t_pts, 50., 70.)    \n",
    "tau_ext = 2.*np.pi / omega_ext\n",
    "delta_index = int(tau_ext / delta_t)\n",
    "\n",
    "print('   t     phi(t)')\n",
    "for index in range(start, stop, delta_index):\n",
    "    print(f'  {t_pts[index]:.1f}   {phi[index]:.4f}')"
   ]
  },
  {
   "cell_type": "markdown",
   "metadata": {},
   "source": [
    "Now trying the power spectrum in steady state, plotting only positive frequencies and cutting off any lower peaks from noise.  We multiply the frequencies by $2\\pi$ to get the angular frequency.  **What do you observe?**"
   ]
  },
  {
   "cell_type": "code",
   "execution_count": 9,
   "metadata": {},
   "outputs": [
    {
     "data": {
      "image/png": "[encoded data removed]",
      "text/plain": [
       "<Figure size 360x360 with 1 Axes>"
      ]
     },
     "metadata": {
      "needs_background": "light"
     },
     "output_type": "display_data"
    }
   ],
   "source": [
    "start, stop = start_stop_indices(t_pts, 20., t_end)    \n",
    "signal = phi[start:stop]\n",
    "power_spectrum = np.abs(np.fft.fft(signal))**2\n",
    "freqs = 2.*np.pi * np.fft.fftfreq(signal.size, delta_t)\n",
    "idx = np.argsort(freqs)\n",
    "\n",
    "fig_ps = plt.figure(figsize=(5,5))\n",
    "ax_ps = fig_ps.add_subplot(1,1,1)\n",
    "ax_ps.semilogy(freqs[idx], power_spectrum[idx], color='blue')\n",
    "ax_ps.set_xlim(0, 30.)\n",
    "ax_ps.set_ylim(1.e4, 1.e9)\n",
    "ax_ps.set_xlabel('frequency (Hz)')\n",
    "ax_ps.set_title('Power Spectrum for Figure 12.4')\n",
    "\n",
    "fig_ps.tight_layout()\n"
   ]
  },
  {
   "cell_type": "markdown",
   "metadata": {},
   "source": [
    "## Figure 12.5: Pick conditions and then analyze"
   ]
  },
  {
   "cell_type": "code",
   "execution_count": 10,
   "metadata": {
    "scrolled": false
   },
   "outputs": [],
   "source": [
    "# Labels for individual plot axes\n",
    "phi_vs_time_labels = (r'$t$', r'$\\phi(t)$')\n",
    "phi_dot_vs_time_labels = (r'$t$', r'$d\\phi/dt(t)$')\n",
    "state_space_labels = (r'$\\phi$', r'$d\\phi/dt$')\n",
    "\n",
    "# Common plotting time (generate the full time then use slices)\n",
    "t_start = 0.\n",
    "t_end = 100.\n",
    "delta_t = 0.01\n",
    "\n",
    "t_pts = np.arange(t_start, t_end+delta_t, delta_t)  \n",
    "\n",
    "# Common pendulum parameters\n",
    "gamma_ext = 1.073   \n",
    "omega_ext = 2.*np.pi\n",
    "phi_ext = 0.  \n",
    "\n",
    "omega_0 = 1.5*omega_ext\n",
    "beta = omega_0/4.  \n",
    "\n",
    "# Instantiate a pendulum \n",
    "p1 = Pendulum(omega_0=omega_0, beta=beta, \n",
    "              gamma_ext=gamma_ext, omega_ext=omega_ext, phi_ext=phi_ext)\n",
    "\n",
    "# calculate the driving force for t_pts\n",
    "driving = p1.driving_force(t_pts)\n"
   ]
  },
  {
   "cell_type": "code",
   "execution_count": 11,
   "metadata": {},
   "outputs": [
    {
     "data": {
      "image/png": "[encoded data removed]",
      "text/plain": [
       "<Figure size 1080x360 with 3 Axes>"
      ]
     },
     "metadata": {
      "needs_background": "light"
     },
     "output_type": "display_data"
    }
   ],
   "source": [
    "# initial conditions specified\n",
    "phi_0 = 0.\n",
    "phi_dot_0 = 0.0\n",
    "phi, phi_dot = p1.solve_ode(phi_0, phi_dot_0)\n",
    "\n",
    "# Change the common font size\n",
    "font_size = 14\n",
    "plt.rcParams.update({'font.size': font_size})\n",
    "\n",
    "# start the plot!\n",
    "fig = plt.figure(figsize=(15,5))\n",
    "overall_title = 'Taylor Figure 12.5:  ' + \\\n",
    "                rf' $\\omega = {omega_ext:.2f},$' + \\\n",
    "                rf' $\\gamma = {gamma_ext:.3f},$' + \\\n",
    "                rf' $\\omega_0 = {omega_0:.2f},$' + \\\n",
    "                rf' $\\beta = {beta:.2f},$' + \\\n",
    "                rf'  $\\phi_0 = {phi_0:.2f},$' + \\\n",
    "                rf' $\\dot\\phi_0 = {phi_dot_0:.2f}$' + \\\n",
    "                '\\n'     # \\n means a new line (adds some space here)\n",
    "fig.suptitle(overall_title, va='baseline')\n",
    "    \n",
    "# first plot: plot from t=0 to t=15   \n",
    "ax_a = fig.add_subplot(1,3,1)                  \n",
    "\n",
    "start, stop = start_stop_indices(t_pts, 0., 30.)    \n",
    "plot_y_vs_x(t_pts[start : stop], phi[start : stop], \n",
    "            axis_labels=phi_vs_time_labels, \n",
    "            color='blue',\n",
    "            label=None, \n",
    "            title='Figure 12.5', \n",
    "            ax=ax_a)    \n",
    "                              \n",
    "# second plot: state space plot from t=0 to t=15   \n",
    "ax_b = fig.add_subplot(1,3,2)                  \n",
    "\n",
    "start, stop = start_stop_indices(t_pts, 0., 15.)    \n",
    "plot_y_vs_x(phi[start : stop], phi_dot[start : stop], \n",
    "            axis_labels=state_space_labels, \n",
    "            color='blue',\n",
    "            label=None, \n",
    "            title=rf'$0 \\leq t \\leq 15$', \n",
    "            ax=ax_b)    \n",
    "\n",
    "# third plot: state space plot from t= to t=12   \n",
    "ax_c = fig.add_subplot(1,3,3)                  \n",
    "\n",
    "start, stop = start_stop_indices(t_pts, 30., 50.)    \n",
    "plot_y_vs_x(phi[start : stop], phi_dot[start : stop], \n",
    "            axis_labels=state_space_labels, \n",
    "            color='blue',\n",
    "            label=None, \n",
    "            title=rf'$30 \\leq t \\leq 50$', \n",
    "            ax=ax_c)    \n",
    "\n",
    "fig.tight_layout()\n",
    "fig.savefig('Figure_12.5.png', bbox_inches='tight')  # always bbox_inches='tight'"
   ]
  },
  {
   "cell_type": "code",
   "execution_count": 12,
   "metadata": {
    "scrolled": false
   },
   "outputs": [
    {
     "name": "stdout",
     "output_type": "stream",
     "text": [
      "   t     phi(t)\n",
      "  50.0   -8.4515\n",
      "  51.0   -8.8122\n",
      "  52.0   -8.4514\n",
      "  53.0   -8.8121\n",
      "  54.0   -8.4515\n",
      "  55.0   -8.8122\n",
      "  56.0   -8.4515\n",
      "  57.0   -8.8121\n",
      "  58.0   -8.4516\n",
      "  59.0   -8.8121\n",
      "  60.0   -8.4515\n",
      "  61.0   -8.8122\n",
      "  62.0   -8.4515\n",
      "  63.0   -8.8121\n",
      "  64.0   -8.4517\n",
      "  65.0   -8.8121\n",
      "  66.0   -8.4516\n",
      "  67.0   -8.8121\n",
      "  68.0   -8.4515\n",
      "  69.0   -8.8121\n"
     ]
    }
   ],
   "source": [
    "# First pass at periodicity check\n",
    "start, stop = start_stop_indices(t_pts, 50., 70.)    \n",
    "tau_ext = 2.*np.pi / omega_ext\n",
    "delta_index = int(tau_ext / delta_t)\n",
    "\n",
    "print('   t     phi(t)')\n",
    "for index in range(start, stop, delta_index):\n",
    "    print(f'  {t_pts[index]:.1f}   {phi[index]:.4f}')"
   ]
  },
  {
   "cell_type": "markdown",
   "metadata": {},
   "source": [
    "Now trying the power spectrum in steady state, plotting only positive frequencies and cutting off any lower peaks from noise.  We multiply the frequencies by $2\\pi$ to get the angular frequency.  **What do you observe?**"
   ]
  },
  {
   "cell_type": "code",
   "execution_count": 13,
   "metadata": {},
   "outputs": [
    {
     "data": {
      "image/png": "[encoded data removed]",
      "text/plain": [
       "<Figure size 360x360 with 1 Axes>"
      ]
     },
     "metadata": {
      "needs_background": "light"
     },
     "output_type": "display_data"
    }
   ],
   "source": [
    "start, stop = start_stop_indices(t_pts, 20., t_end)    \n",
    "signal = phi[start:stop]\n",
    "power_spectrum = np.abs(np.fft.fft(signal))**2\n",
    "freqs = 2.*np.pi * np.fft.fftfreq(signal.size, delta_t)\n",
    "idx = np.argsort(freqs)\n",
    "\n",
    "fig_ps = plt.figure(figsize=(5,5))\n",
    "ax_ps = fig_ps.add_subplot(1,1,1)\n",
    "ax_ps.semilogy(freqs[idx], power_spectrum[idx], color='blue')\n",
    "ax_ps.set_xlim(0, 30.)\n",
    "ax_ps.set_ylim(1.e4, 1.e9)\n",
    "ax_ps.set_xlabel('frequency (Hz)')\n",
    "ax_ps.set_title('Power Spectrum for Figure 12.5')\n",
    "\n",
    "fig_ps.tight_layout()\n"
   ]
  },
  {
   "cell_type": "markdown",
   "metadata": {},
   "source": [
    "## Make plots for Taylor Figure 12.6\n"
   ]
  },
  {
   "cell_type": "code",
   "execution_count": null,
   "metadata": {
    "scrolled": false
   },
   "outputs": [],
   "source": [
    "# Labels for individual plot axes\n",
    "phi_vs_time_labels = (r'$t$', r'$\\phi(t)$')\n",
    "phi_dot_vs_time_labels = (r'$t$', r'$d\\phi/dt(t)$')\n",
    "state_space_labels = (r'$\\phi$', r'$d\\phi/dt$')\n",
    "\n",
    "# Common plotting time (generate the full time then use slices)\n",
    "t_start = 0.\n",
    "t_end = 100.\n",
    "delta_t = 0.01\n",
    "\n",
    "t_pts = np.arange(t_start, t_end+delta_t, delta_t)  \n",
    "\n",
    "# Common pendulum parameters\n",
    "gamma_ext = 1.077\n",
    "omega_ext = 2.*np.pi\n",
    "phi_ext = 0.\n",
    "\n",
    "omega_0 = 1.5*omega_ext\n",
    "beta = omega_0/4.\n",
    "\n",
    "# Instantiate a pendulum \n",
    "p1 = Pendulum(omega_0=omega_0, beta=beta, \n",
    "              gamma_ext=gamma_ext, omega_ext=omega_ext, phi_ext=phi_ext)\n",
    "\n",
    "# calculate the driving force for t_pts\n",
    "driving = p1.driving_force(t_pts)\n"
   ]
  },
  {
   "cell_type": "code",
   "execution_count": null,
   "metadata": {},
   "outputs": [],
   "source": [
    "# initial conditions specified\n",
    "phi_0 = 0.\n",
    "phi_dot_0 = 0.0\n",
    "phi, phi_dot = p1.solve_ode(phi_0, phi_dot_0)\n",
    "phi_fig12_6 = phi\n",
    "\n",
    "# Change the common font size\n",
    "font_size = 14\n",
    "plt.rcParams.update({'font.size': font_size})\n",
    "\n",
    "# start the plot!\n",
    "fig = plt.figure(figsize=(15,5))\n",
    "overall_title = 'Taylor Figure 12.6:  ' + \\\n",
    "                rf' $\\omega = {omega_ext:.2f},$' + \\\n",
    "                rf' $\\gamma = {gamma_ext:.3f},$' + \\\n",
    "                rf' $\\omega_0 = {omega_0:.2f},$' + \\\n",
    "                rf' $\\beta = {beta:.2f},$' + \\\n",
    "                rf'  $\\phi_0 = {phi_0:.2f},$' + \\\n",
    "                rf' $\\dot\\phi_0 = {phi_dot_0:.2f}$' + \\\n",
    "                '\\n'     # \\n means a new line (adds some space here)\n",
    "fig.suptitle(overall_title, va='baseline')\n",
    "    \n",
    "# first plot: plot from t=0 to t=10   \n",
    "ax_a = fig.add_subplot(1,3,1)                  \n",
    "\n",
    "start, stop = start_stop_indices(t_pts, 0., 40.)    \n",
    "plot_y_vs_x(t_pts[start : stop], phi[start : stop], \n",
    "            axis_labels=phi_vs_time_labels, \n",
    "            color='blue',\n",
    "            label=None, \n",
    "            title='(a)', \n",
    "            ax=ax_a)    \n",
    "                              \n",
    "# second plot: state space plot from t=0 to t=10   \n",
    "ax_b = fig.add_subplot(1,3,2)                  \n",
    "\n",
    "start, stop = start_stop_indices(t_pts, 0., 15.)    \n",
    "plot_y_vs_x(phi[start : stop], phi_dot[start : stop], \n",
    "            axis_labels=state_space_labels, \n",
    "            color='blue',\n",
    "            label=None, \n",
    "            title=rf'$0 \\leq t \\leq 10$', \n",
    "            ax=ax_b)    \n",
    "\n",
    "# third plot: state space plot from t=5 to t=12   \n",
    "ax_c = fig.add_subplot(1,3,3)                  \n",
    "\n",
    "start, stop = start_stop_indices(t_pts, 20, 100.)    \n",
    "plot_y_vs_x(phi[start : stop], phi_dot[start : stop], \n",
    "            axis_labels=state_space_labels, \n",
    "            color='blue',\n",
    "            label=None, \n",
    "            title=rf'$5 \\leq t \\leq 12$', \n",
    "            ax=ax_c)    \n",
    "\n",
    "fig.tight_layout()\n",
    "fig.savefig('Figure_12.6.png', bbox_inches='tight')  # always bbox_inches='tight'"
   ]
  },
  {
   "cell_type": "code",
   "execution_count": null,
   "metadata": {
    "scrolled": false
   },
   "outputs": [],
   "source": [
    "# First pass at periodicity check\n",
    "start, stop = start_stop_indices(t_pts, 50., 70.)    \n",
    "tau_ext = 2.*np.pi / omega_ext\n",
    "delta_index = int(tau_ext / delta_t)\n",
    "\n",
    "print('   t     phi(t)')\n",
    "for index in range(start, stop, delta_index):\n",
    "    print(f'  {t_pts[index]:.1f}   {phi[index]:.4f}')"
   ]
  },
  {
   "cell_type": "markdown",
   "metadata": {},
   "source": [
    "Now trying the power spectrum in steady state, plotting only positive frequencies and cutting off any lower peaks from noise.  We multiply the frequencies by $2\\pi$ to get the angular frequency.  **What do you observe?**"
   ]
  },
  {
   "cell_type": "code",
   "execution_count": null,
   "metadata": {
    "scrolled": true
   },
   "outputs": [],
   "source": [
    "start, stop = start_stop_indices(t_pts, 20., t_end)    \n",
    "signal = phi[start:stop]\n",
    "power_spectrum = np.abs(np.fft.fft(signal))**2\n",
    "freqs = 2.*np.pi * np.fft.fftfreq(signal.size, delta_t)\n",
    "idx = np.argsort(freqs)\n",
    "\n",
    "fig_ps = plt.figure(figsize=(5,5))\n",
    "ax_ps = fig_ps.add_subplot(1,1,1)\n",
    "ax_ps.semilogy(freqs[idx], power_spectrum[idx], color='blue')\n",
    "ax_ps.set_xlim(0, 30.)\n",
    "ax_ps.set_ylim(1.e3, 1.e9)\n",
    "ax_ps.set_xlabel('frequency (Hz)')\n",
    "ax_ps.set_title('Power Spectrum for Figure 12.6')\n",
    "\n",
    "fig_ps.tight_layout()\n"
   ]
  },
  {
   "cell_type": "code",
   "execution_count": null,
   "metadata": {},
   "outputs": [],
   "source": []
  },
  {
   "cell_type": "markdown",
   "metadata": {},
   "source": [
    "## Make plots for Taylor Figure 12.7\n"
   ]
  },
  {
   "cell_type": "code",
   "execution_count": null,
   "metadata": {
    "scrolled": false
   },
   "outputs": [],
   "source": [
    "# Labels for individual plot axes\n",
    "phi_vs_time_labels = (r'$t$', r'$\\phi(t)$')\n",
    "phi_dot_vs_time_labels = (r'$t$', r'$d\\phi/dt(t)$')\n",
    "state_space_labels = (r'$\\phi$', r'$d\\phi/dt$')\n",
    "\n",
    "# Common plotting time (generate the full time then use slices)\n",
    "t_start = 0.\n",
    "t_end = 500.\n",
    "delta_t = 0.01\n",
    "\n",
    "t_pts = np.arange(t_start, t_end+delta_t, delta_t)  \n",
    "\n",
    "# Common pendulum parameters\n",
    "gamma_ext = 1.077\n",
    "omega_ext = 2.*np.pi\n",
    "phi_ext = 0.\n",
    "\n",
    "omega_0 = 1.5*omega_ext\n",
    "beta = omega_0/4.\n",
    "\n",
    "# Instantiate a pendulum \n",
    "p1 = Pendulum(omega_0=omega_0, beta=beta, \n",
    "              gamma_ext=gamma_ext, omega_ext=omega_ext, phi_ext=phi_ext)\n",
    "\n",
    "# calculate the driving force for t_pts\n",
    "driving = p1.driving_force(t_pts)\n"
   ]
  },
  {
   "cell_type": "code",
   "execution_count": null,
   "metadata": {},
   "outputs": [],
   "source": [
    "# initial conditions specified\n",
    "phi_0 = -np.pi/2.\n",
    "phi_dot_0 = 0.0\n",
    "phi, phi_dot = p1.solve_ode(phi_0, phi_dot_0)\n",
    "\n",
    "# Change the common font size\n",
    "font_size = 14\n",
    "plt.rcParams.update({'font.size': font_size})\n",
    "\n",
    "# start the plot!\n",
    "fig = plt.figure(figsize=(15,5))\n",
    "overall_title = 'Taylor Figure 12.7:  ' + \\\n",
    "                rf' $\\omega = {omega_ext:.2f},$' + \\\n",
    "                rf' $\\gamma = {gamma_ext:.3f},$' + \\\n",
    "                rf' $\\omega_0 = {omega_0:.2f},$' + \\\n",
    "                rf' $\\beta = {beta:.2f},$' + \\\n",
    "                rf'  $\\phi_0 = {phi_0:.2f},$' + \\\n",
    "                rf' $\\dot\\phi_0 = {phi_dot_0:.2f}$' + \\\n",
    "                '\\n'     # \\n means a new line (adds some space here)\n",
    "fig.suptitle(overall_title, va='baseline')\n",
    "    \n",
    "# first plot: plot from t=0 to t=10   \n",
    "ax_a = fig.add_subplot(1,3,1)                  \n",
    "\n",
    "start, stop = start_stop_indices(t_pts, 0., 40.)    \n",
    "plot_y_vs_x(t_pts[start : stop], phi[start : stop], \n",
    "            axis_labels=phi_vs_time_labels, \n",
    "            color='blue',\n",
    "            label=None, \n",
    "            title='(a)', \n",
    "            ax=ax_a)    \n",
    "plot_y_vs_x(t_pts[start : stop], phi_fig12_6[start : stop], \n",
    "            axis_labels=phi_vs_time_labels, \n",
    "            color='red',\n",
    "            label=None, \n",
    "            ax=ax_a)    \n",
    "                              \n",
    "# second plot: state space plot from t=0 to t=15   \n",
    "ax_b = fig.add_subplot(1,3,2)                  \n",
    "\n",
    "start, stop = start_stop_indices(t_pts, 0., 15.)    \n",
    "plot_y_vs_x(phi[start : stop], phi_dot[start : stop], \n",
    "            axis_labels=state_space_labels, \n",
    "            color='blue',\n",
    "            label=None, \n",
    "            title=rf'$0 \\leq t \\leq 10$', \n",
    "            ax=ax_b)    \n",
    "\n",
    "# third plot: state space plot from t=5 to t=12   \n",
    "ax_c = fig.add_subplot(1,3,3)                  \n",
    "\n",
    "start, stop = start_stop_indices(t_pts, 20, 100.)    \n",
    "plot_y_vs_x(phi[start : stop], phi_dot[start : stop], \n",
    "            axis_labels=state_space_labels, \n",
    "            color='blue',\n",
    "            label=None, \n",
    "            title=rf'$5 \\leq t \\leq 12$', \n",
    "            ax=ax_c)    \n",
    "\n",
    "fig.tight_layout()\n",
    "fig.savefig('Figure_12.7.png', bbox_inches='tight')  # always bbox_inches='tight'"
   ]
  },
  {
   "cell_type": "code",
   "execution_count": null,
   "metadata": {
    "scrolled": false
   },
   "outputs": [],
   "source": [
    "# First pass at periodicity check\n",
    "start, stop = start_stop_indices(t_pts, 50., 70.)    \n",
    "tau_ext = 2.*np.pi / omega_ext\n",
    "delta_index = int(tau_ext / delta_t)\n",
    "\n",
    "print('   t     phi(t)')\n",
    "for index in range(start, stop, delta_index):\n",
    "    print(f'  {t_pts[index]:.1f}   {phi[index]:.4f}')"
   ]
  },
  {
   "cell_type": "markdown",
   "metadata": {},
   "source": [
    "Now trying the power spectrum in steady state, plotting only positive frequencies and cutting off any lower peaks from noise.  We multiply the frequencies by $2\\pi$ to get the angular frequency.  **What do you observe?**"
   ]
  },
  {
   "cell_type": "code",
   "execution_count": null,
   "metadata": {
    "scrolled": true
   },
   "outputs": [],
   "source": [
    "start, stop = start_stop_indices(t_pts, 20., t_end)    \n",
    "signal = phi[start:stop]\n",
    "power_spectrum = np.abs(np.fft.fft(signal))**2\n",
    "freqs = 2.*np.pi * np.fft.fftfreq(signal.size, delta_t)\n",
    "idx = np.argsort(freqs)\n",
    "\n",
    "fig_ps = plt.figure(figsize=(5,5))\n",
    "ax_ps = fig_ps.add_subplot(1,1,1)\n",
    "ax_ps.semilogy(freqs[idx], power_spectrum[idx], color='blue')\n",
    "ax_ps.set_xlim(0, 30.)\n",
    "ax_ps.set_ylim(1.e3, 1.e10)\n",
    "ax_ps.set_xlabel('frequency (Hz)')\n",
    "ax_ps.set_title('Power Spectrum for Figure 12.7')\n",
    "\n",
    "fig_ps.tight_layout()\n"
   ]
  },
  {
   "cell_type": "markdown",
   "metadata": {},
   "source": [
    "## Make plots for Taylor Figure 12.8\n",
    "\n",
    "Now we try to plot a period doubling cascade as in Figure 12.8.  This will mean plots of four different conditions, each with two plots."
   ]
  },
  {
   "cell_type": "code",
   "execution_count": null,
   "metadata": {
    "scrolled": false
   },
   "outputs": [],
   "source": [
    "# Labels for individual plot axes\n",
    "phi_vs_time_labels = (r'$t$', r'$\\phi(t)$')\n",
    "phi_dot_vs_time_labels = (r'$t$', r'$d\\phi/dt(t)$')\n",
    "state_space_labels = (r'$\\phi$', r'$d\\phi/dt$')\n",
    "\n",
    "# Common plotting time (generate the full time then use slices)\n",
    "t_start = 0.\n",
    "t_end = 100.\n",
    "delta_t = 0.01\n",
    "\n",
    "t_pts = np.arange(t_start, t_end+delta_t, delta_t)  \n",
    "\n",
    "# Common parameters\n",
    "omega_ext = 2.*np.pi\n",
    "phi_ext = 0.\n",
    "\n",
    "omega_0 = 1.5*omega_ext\n",
    "beta = omega_0/4.\n",
    "\n",
    "# Instantiate the pendulu s\n",
    "gamma_ext = 1.060\n",
    "p1 = Pendulum(omega_0=omega_0, beta=beta, \n",
    "              gamma_ext=gamma_ext, omega_ext=omega_ext, phi_ext=phi_ext)\n",
    "\n",
    "gamma_ext = 1.078\n",
    "p2 = Pendulum(omega_0=omega_0, beta=beta, \n",
    "              gamma_ext=gamma_ext, omega_ext=omega_ext, phi_ext=phi_ext)\n",
    "\n",
    "gamma_ext = 1.081\n",
    "p3 = Pendulum(omega_0=omega_0, beta=beta, \n",
    "              gamma_ext=gamma_ext, omega_ext=omega_ext, phi_ext=phi_ext)\n",
    "\n",
    "gamma_ext = 1.0826\n",
    "p4 = Pendulum(omega_0=omega_0, beta=beta, \n",
    "              gamma_ext=gamma_ext, omega_ext=omega_ext, phi_ext=phi_ext)\n",
    "\n",
    "# calculate the driving force for t_pts (all the same)\n",
    "driving = p1.driving_force(t_pts)\n"
   ]
  },
  {
   "cell_type": "code",
   "execution_count": null,
   "metadata": {},
   "outputs": [],
   "source": [
    "# same initial conditions specified\n",
    "phi_0 = -np.pi / 2.\n",
    "phi_dot_0 = 0.\n",
    "\n",
    "# solve each of the pendulum odes\n",
    "phi_1, phi_dot_1 = p1.solve_ode(phi_0, phi_dot_0)\n",
    "phi_2, phi_dot_2 = p2.solve_ode(phi_0, phi_dot_0)\n",
    "phi_3, phi_dot_3 = p3.solve_ode(phi_0, phi_dot_0)\n",
    "phi_4, phi_dot_4 = p4.solve_ode(phi_0, phi_dot_0)\n",
    "\n",
    "# Change the common font size\n",
    "font_size = 14\n",
    "plt.rcParams.update({'font.size': font_size})\n",
    "box_props = dict(boxstyle='round', facecolor='wheat', alpha=0.5)\n",
    "\n",
    "# start the plot!\n",
    "fig = plt.figure(figsize=(12,10))\n",
    "overall_title = 'Taylor Figure 12.8:  ' + \\\n",
    "                rf' $\\omega = {omega_ext:.2f},$' + \\\n",
    "                rf' $\\omega_0 = {omega_0:.2f},$' + \\\n",
    "                rf' $\\beta = {beta:.2f},$' + \\\n",
    "                rf'  $\\phi_0 = {phi_0:.2f},$' + \\\n",
    "                rf' $\\dot\\phi_0 = {phi_dot_0:.2f}$' + \\\n",
    "                '\\n'     # \\n means a new line (adds some space here)\n",
    "fig.suptitle(overall_title, va='baseline')\n",
    "    \n",
    "# plot 1a: plot from t=0 to t=10   \n",
    "ax_1a = fig.add_subplot(4,2,1)                  \n",
    "start, stop = start_stop_indices(t_pts, 0., 10.)    \n",
    "plot_y_vs_x(t_pts[start : stop], phi_1[start : stop], \n",
    "            axis_labels=phi_vs_time_labels, \n",
    "            color='blue',\n",
    "            label=None, \n",
    "            ax=ax_1a) \n",
    "ax_1a.set_ylim(-3, 3.5)\n",
    "ax_1a.axhline(y=0., color='black', alpha=0.5)\n",
    "textstr = r'$\\gamma = 1.060$' + '\\n' + r' Period 1'\n",
    "ax_1a.text(-5.8, 0., textstr, bbox=box_props)\n",
    "    \n",
    "# plot 1b: plot from t=28 to t=40 blown up   \n",
    "ax_1b = fig.add_subplot(4,2,2)                  \n",
    "start, stop = start_stop_indices(t_pts, 28., 40.)    \n",
    "plot_y_vs_x(t_pts[start : stop], phi_1[start : stop], \n",
    "            axis_labels=phi_vs_time_labels, \n",
    "            color='blue',\n",
    "            label=rf'$\\gamma = 1.060$', \n",
    "            ax=ax_1b) \n",
    "ax_1b.set_ylim(-2.5, -1.6)\n",
    "    \n",
    "# plot 2a: plot from t=0 to t=10   \n",
    "ax_2a = fig.add_subplot(4,2,3)                  \n",
    "start, stop = start_stop_indices(t_pts, 0., 10.)    \n",
    "plot_y_vs_x(t_pts[start : stop], phi_2[start : stop], \n",
    "            axis_labels=phi_vs_time_labels, \n",
    "            color='blue',\n",
    "            label=None, \n",
    "            ax=ax_2a) \n",
    "ax_2a.set_ylim(-3, 3.5)\n",
    "ax_2a.axhline(y=0., color='black', alpha=0.5)\n",
    "textstr = r'$\\gamma = 1.078$' + '\\n' + r' Period 2'\n",
    "ax_2a.text(-5.8, 0., textstr, bbox=box_props)\n",
    "    \n",
    "# plot 2b: plot from t=28 to t=40 blown up   \n",
    "ax_2b = fig.add_subplot(4,2,4)                  \n",
    "start, stop = start_stop_indices(t_pts, 28., 40.)    \n",
    "plot_y_vs_x(t_pts[start : stop], phi_2[start : stop], \n",
    "            axis_labels=phi_vs_time_labels, \n",
    "            color='blue',\n",
    "            label=rf'$\\gamma = 1.078$', \n",
    "            ax=ax_2b) \n",
    "ax_2b.set_ylim(-2.5, -1.6)\n",
    "    \n",
    "# plot 3a: plot from t=0 to t=10   \n",
    "ax_3a = fig.add_subplot(4,2,5)                  \n",
    "start, stop = start_stop_indices(t_pts, 0., 10.)    \n",
    "plot_y_vs_x(t_pts[start : stop], phi_3[start : stop], \n",
    "            axis_labels=phi_vs_time_labels, \n",
    "            color='blue',\n",
    "            label=None, \n",
    "            ax=ax_3a) \n",
    "ax_3a.set_ylim(-3, 3.5)\n",
    "ax_3a.axhline(y=0., color='black', alpha=0.5)\n",
    "textstr = r'$\\gamma = 1.081$' + '\\n' + r' Period 4'\n",
    "ax_3a.text(-5.8, 0., textstr, bbox=box_props)\n",
    "    \n",
    "# plot 3b: plot from t=28 to t=40 blown up   \n",
    "ax_3b = fig.add_subplot(4,2,6)                  \n",
    "start, stop = start_stop_indices(t_pts, 28., 40.)    \n",
    "plot_y_vs_x(t_pts[start : stop], phi_3[start : stop], \n",
    "            axis_labels=phi_vs_time_labels, \n",
    "            color='blue',\n",
    "            label=None, \n",
    "            ax=ax_3b) \n",
    "ax_3b.set_ylim(-2.5, -1.6)\n",
    "    \n",
    "# plot 4a: plot from t=0 to t=10   \n",
    "ax_4a = fig.add_subplot(4,2,7)                  \n",
    "start, stop = start_stop_indices(t_pts, 0., 10.)    \n",
    "plot_y_vs_x(t_pts[start : stop], phi_4[start : stop], \n",
    "            axis_labels=phi_vs_time_labels, \n",
    "            color='blue',\n",
    "            label=None, \n",
    "            ax=ax_4a) \n",
    "ax_4a.set_ylim(-3, 3.5)\n",
    "ax_4a.axhline(y=0., color='black', alpha=0.5)\n",
    "textstr = r'$\\gamma = 1.0826$' + '\\n' + r' Period 8'\n",
    "ax_4a.text(-5.8, 0., textstr, bbox=box_props)\n",
    "    \n",
    "# plot 4b: plot from t=28 to t=40 blown up   \n",
    "ax_4b = fig.add_subplot(4,2,8)                  \n",
    "start, stop = start_stop_indices(t_pts, 28., 40.)    \n",
    "plot_y_vs_x(t_pts[start : stop], phi_4[start : stop], \n",
    "            axis_labels=phi_vs_time_labels, \n",
    "            color='blue',\n",
    "            label=None, \n",
    "            ax=ax_4b) \n",
    "ax_4b.set_ylim(-2.5, -1.6)\n",
    "\n",
    "fig.tight_layout()\n",
    "fig.savefig('Figure_12.8.png', bbox_inches='tight')  # always bbox_inches='tight'"
   ]
  },
  {
   "cell_type": "code",
   "execution_count": null,
   "metadata": {},
   "outputs": [],
   "source": []
  }
 ],
 "metadata": {
  "kernelspec": {
   "display_name": "Python 3",
   "language": "python",
   "name": "python3"
  },
  "language_info": {
   "codemirror_mode": {
    "name": "ipython",
    "version": 3
   },
   "file_extension": ".py",
   "mimetype": "text/x-python",
   "name": "python",
   "nbconvert_exporter": "python",
   "pygments_lexer": "ipython3",
   "version": "3.7.1"
  }
 },
 "nbformat": 4,
 "nbformat_minor": 2
}
