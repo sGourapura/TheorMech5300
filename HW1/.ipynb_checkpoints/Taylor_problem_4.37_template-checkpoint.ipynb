{
 "cells": [
  {
   "cell_type": "markdown",
   "metadata": {},
   "source": [
    "# Taylor problem 4.37 template\n",
    "\n",
    "In this problem the potential energy $U(\\phi)$ depends on the masses $m$ and $M$, with the qualitative behavior of the system starting at $\\phi=0$ depending on the ratio $m/M$. We will determine the critical value of this ratio from the graphs of the potential energy (corresponding to taking $\\phi = 0$, meaning $M$ at its lowest, as the zero of potential energy):\n",
    "\n",
    "$\\begin{align}\n",
    "  U(\\phi) = M g R (1-\\cos\\phi) - m g R \\phi  \\;.\n",
    "\\end{align}$\n",
    "\n",
    "**This notebook has a different potential energy function that has the same qualitative behavior.  Your job is to implement the correct formula.  Places you need to change are marked with ###.**\n"
   ]
  },
  {
   "cell_type": "code",
   "execution_count": 1,
   "metadata": {},
   "outputs": [],
   "source": [
    "%matplotlib inline"
   ]
  },
  {
   "cell_type": "code",
   "execution_count": 2,
   "metadata": {},
   "outputs": [],
   "source": [
    "import numpy as np\n",
    "import matplotlib.pyplot as plt"
   ]
  },
  {
   "cell_type": "markdown",
   "metadata": {},
   "source": [
    "Make a plot of the potential with simple values of the constants."
   ]
  },
  {
   "cell_type": "code",
   "execution_count": 3,
   "metadata": {},
   "outputs": [],
   "source": [
    "def U(phi, M_big, m_small, R=1., g=1.):\n",
    "    \"\"\"Potential energy for the system in Taylor, problem 4.37.\"\"\"\n",
    "    return M_big*g*R*(1.-np.exp(-phi**4/2.)) - m_small*g*R*phi  ### made up U(\\phi)"
   ]
  },
  {
   "cell_type": "code",
   "execution_count": 4,
   "metadata": {},
   "outputs": [
    {
     "data": {
      "image/png": "[encoded data removed]",
      "text/plain": [
       "<Figure size 432x288 with 1 Axes>"
      ]
     },
     "metadata": {
      "needs_background": "light"
     },
     "output_type": "display_data"
    }
   ],
   "source": [
    "# set non-essential constants to 1 (doesn't change shapes)\n",
    "R = 1.\n",
    "g = 1.\n",
    "M_big = 1.\n",
    "\n",
    "phi_pts = np.arange(0., 3.5, 0.01)\n",
    "\n",
    "fig_U = plt.figure()\n",
    "ax_U = fig_U.add_subplot(1,1,1)\n",
    "\n",
    "m_small = 0.5  ### different values\n",
    "U_of_phi_pts = U(phi_pts, M_big, m_small)\n",
    "ax_U.plot(phi_pts, U_of_phi_pts, 'b-', label=fr'$m/M = {m_small:0.1f}$', lw=2)\n",
    "\n",
    "m_small = 0.7  ### different values\n",
    "U_of_phi_pts = U(phi_pts, M_big, m_small)\n",
    "ax_U.plot(phi_pts, U_of_phi_pts, 'g-', label=fr'$m/M = {m_small:0.1f}$', lw=2)\n",
    "\n",
    "\n",
    "ax_U.set_xlabel(r'$\\phi$')\n",
    "ax_U.set_ylabel(r'$U(\\phi)$')\n",
    "\n",
    "ax_U.set_xlim(0, 3.5)\n",
    "#ax_U.set_ylim(-1., 6.)\n",
    "\n",
    "# draw a black horizontal line at 0 but with alpha=0.3 so less distracting\n",
    "ax_U.axhline(0., color='black', alpha=0.3 )  \n",
    "ax_U.legend();\n"
   ]
  },
  {
   "cell_type": "markdown",
   "metadata": {},
   "source": [
    "Let's plot it with a slider to find the critical value (where the curve is tangent to the line at zero. "
   ]
  },
  {
   "cell_type": "markdown",
   "metadata": {},
   "source": [
    "Ok, let's change $m/M$ with a slider:"
   ]
  },
  {
   "cell_type": "code",
   "execution_count": null,
   "metadata": {},
   "outputs": [],
   "source": [
    "from ipywidgets import interact, fixed\n",
    "import ipywidgets as widgets"
   ]
  },
  {
   "cell_type": "code",
   "execution_count": null,
   "metadata": {},
   "outputs": [],
   "source": [
    "# set non-essential constants to 1 (doesn't change shapes)\n",
    "R = 1.\n",
    "g = 1.\n",
    "M_big = 1.\n",
    "\n",
    "def plot_U_given_m_over_M(m_over_M, M_big=1., R=1., g=1.):\n",
    "    \"\"\n",
    "    phi_pts = np.arange(0., 3.5, 0.01)\n",
    "\n",
    "    fig_U = plt.figure()\n",
    "    ax_U = fig_U.add_subplot(1,1,1)\n",
    "\n",
    "    m_small = m_over_M * M_big\n",
    "    U_of_phi_pts = U(phi_pts, M_big, m_small)\n",
    "    ax_U.plot(phi_pts, U_of_phi_pts, 'r-', \n",
    "              label=rf'$m/M = {m_over_M:.2f}$', lw=2)\n",
    "\n",
    "    ax_U.set_xlabel(r'$\\phi$')\n",
    "    ax_U.set_ylabel(r'$U(\\phi)$')\n",
    "\n",
    "    ax_U.set_xlim(0, 3.5)\n",
    "    #ax_U.set_ylim(-1., 6.)\n",
    "\n",
    "    # draw a black horizontal line at 0 but with alpha=0.3 so less distracting\n",
    "    ax_U.axhline(0., color='black', alpha=0.3 )  \n",
    "\n",
    "    ax_U.legend();\n",
    "\n",
    "# fix the values of M_big, R, and g\n",
    "interact(plot_U_given_m_over_M, \n",
    "         m_over_M = widgets.FloatSlider(min=0., max=1., step=0.01, \n",
    "                                        continuous_update=False,\n",
    "                                        value=0.5, readout_format='.3f'), \n",
    "         M_big=fixed(1.), R=fixed(1.), g=fixed(1.));\n"
   ]
  },
  {
   "cell_type": "markdown",
   "metadata": {},
   "source": [
    "Note that you can type numbers in the box to be more precise."
   ]
  },
  {
   "cell_type": "code",
   "execution_count": null,
   "metadata": {},
   "outputs": [],
   "source": []
  }
 ],
 "metadata": {
  "kernelspec": {
   "display_name": "Python 3",
   "language": "python",
   "name": "python3"
  },
  "language_info": {
   "codemirror_mode": {
    "name": "ipython",
    "version": 3
   },
   "file_extension": ".py",
   "mimetype": "text/x-python",
   "name": "python",
   "nbconvert_exporter": "python",
   "pygments_lexer": "ipython3",
   "version": "3.7.1"
  }
 },
 "nbformat": 4,
 "nbformat_minor": 2
}
