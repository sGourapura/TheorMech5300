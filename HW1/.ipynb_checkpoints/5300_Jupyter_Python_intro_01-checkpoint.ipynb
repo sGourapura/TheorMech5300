{
 "cells": [
  {
   "cell_type": "markdown",
   "metadata": {},
   "source": [
    "# Python and Jupyter notebooks: part 01\n",
    "\n",
    "Last revised: 07-Jan-2018 by Dick Furnstahl [furnstahl.1@osu.edu]"
   ]
  },
  {
   "cell_type": "markdown",
   "metadata": {},
   "source": [
    "This is a whirlwind tool of just the minimum we need to know about Python and Jupyter notebooks to get started doing mechanics problems.  We'll add more features and details as we proceed.\n",
    "\n",
    "A Jupyter notebook is displayed on a web browser on a computer, tablet (e.g., IPad), or even your smartphone.  The notebook is divided into *cells*, of which two types are relevant for us:\n",
    "* Markdown cells: These have headings, text, and mathematical formulas in $\\LaTeX$ using a simple form of HTML called markdown.\n",
    "* Code cells: These have Python code (or other languages, but we'll stick to Python).\n",
    "\n",
    "Either type of cell can be selected with your cursor and will be highlighted in color when active.  You evaluate an active cell with shift-return (as with Mathematica) or by pressing `Run` on the toolbar.  Some notes:\n",
    "* When a new cell is inserted, by default it is a Code cell and will have `In []:` in front.  You can type Python expressions or entire programs in a cell.  How you break up code between cells is your choice and you can always put Markdown cells in between.  When you evaluate a cell it gets the next number, e.g., `In [5]:`.\n",
    "* On the menu bar is a pulldown menu that lets you change back and forth between Code and Markdown cells.  Once you evaluate a Markdown cell, it gets formatted (and has a blue border).  To edit the Markdown cell, double click in it. \n",
    "\n",
    "**Try double-clicking on this cell and then shift-return.**  You will see that a bullet list is created just with an asterisk and a space at the beginning of lines (without the space you get *italics* and with two asterisks you get **bold**).  **Double click on the title header above and you'll see it starts with a single #.**  Headings of subsections are made using ## or ###.  See this [Markdown cheatsheet](https://github.com/adam-p/markdown-here/wiki/Markdown-Cheatsheet) for a quick tour of the Markdown language (including how to add links!).\n",
    "\n",
    "**Now try turning the next (empty) cell to a Markdown cell and type:** `Einstein says $E=mc^2$` **and then evaluate it.**  This is $\\LaTeX$! (If you forget to convert to Markdown and get `SyntaxError: invalid syntax`, just select the cell and convert to Markdown with the menu.)"
   ]
  },
  {
   "cell_type": "code",
   "execution_count": 9,
   "metadata": {},
   "outputs": [
    {
     "name": "stdout",
     "output_type": "stream",
     "text": [
      "TEst 123\n"
     ]
    }
   ],
   "source": [
    "print(\"TEst\", 123)"
   ]
  },
  {
   "cell_type": "markdown",
   "metadata": {},
   "source": [
    "The menus enable you to rename your notebook file (always ending in `.ipynb`) or `Save and Checkpoint` to save the changes to your notebook.  You can insert and delete cells (use the up and down arrows in the toolbar to easily move cells).  You will often use the `Kernel` menu to `Restart` the notebook (and possibly clear output)."
   ]
  },
  {
   "cell_type": "markdown",
   "metadata": {},
   "source": [
    "## Ok, time to try out Python expressions and numpy\n",
    "\n",
    "We can use the Jupyter notebook as a super calculator much like Mathematica and Matlab.  **Try some basic operations, modifying and evaluating the following cells, noting that exponentiation is with** `**` **and not** `^`."
   ]
  },
  {
   "cell_type": "code",
   "execution_count": null,
   "metadata": {},
   "outputs": [],
   "source": [
    " 1 + 1  # Everything after a number sign / pound sign / hashtag) \n",
    "        #  is a comment"
   ]
  },
  {
   "cell_type": "code",
   "execution_count": null,
   "metadata": {},
   "outputs": [],
   "source": [
    "3.2 * 4.713"
   ]
  },
  {
   "cell_type": "markdown",
   "metadata": {},
   "source": [
    "Note that if we want a floating point number (which will be the same as a `double` in C++), we *always* include a decimal point (even when we don't have to) while a number without a decimal point is an integer."
   ]
  },
  {
   "cell_type": "code",
   "execution_count": null,
   "metadata": {},
   "outputs": [],
   "source": [
    "3.**2"
   ]
  },
  {
   "cell_type": "markdown",
   "metadata": {},
   "source": [
    "We can define integer, floating point, and string variables, perform operations on them, and print them.  Note that we don't have to predefine the type of a variable and we can use underscores in the names (unlike Mathematica).  **Evaluate the following cells and then try your own versions.** "
   ]
  },
  {
   "cell_type": "code",
   "execution_count": null,
   "metadata": {
    "scrolled": true
   },
   "outputs": [],
   "source": [
    "x = 5.\n",
    "print(x)\n",
    "x   # If the last line of a cell returns a value, it is printed."
   ]
  },
  {
   "cell_type": "code",
   "execution_count": null,
   "metadata": {},
   "outputs": [],
   "source": [
    "y = 3.*x**2 - 2.*x + 7.\n",
    "print('y = ', y)           # Strings delimited by ' 's\n",
    "print(f'y = {y:.0f}')      # Just a preview: more on format later \n",
    "print(f'y = {y:.2f}')      #  (note that this uses the \"new\" fstring)"
   ]
  },
  {
   "cell_type": "code",
   "execution_count": null,
   "metadata": {},
   "outputs": [],
   "source": [
    "first_name = 'Dick'     # Strings delimited by ' 's\n",
    "last_name = 'Furnstahl'\n",
    "full_name = first_name + ' ' + last_name  # you can concatenate strings \n",
    "print(full_name)"
   ]
  },
  {
   "cell_type": "markdown",
   "metadata": {},
   "source": [
    "Ok, how about square roots and trigonometric functions and ..."
   ]
  },
  {
   "cell_type": "code",
   "execution_count": null,
   "metadata": {},
   "outputs": [],
   "source": [
    "sqrt(2)"
   ]
  },
  {
   "cell_type": "code",
   "execution_count": null,
   "metadata": {},
   "outputs": [],
   "source": [
    "sin(pi)"
   ]
  },
  {
   "cell_type": "markdown",
   "metadata": {},
   "source": [
    "We need to `import` these functions through the numpy library. There are other choices, but numpy works with the arrays we will use.  Note: *Never* use `from numpy import *` instead of `import numpy as np`.  Here `np` is just a abbreviation for numpy (which we can choose to be anything, but `np` is conventional)."
   ]
  },
  {
   "cell_type": "code",
   "execution_count": null,
   "metadata": {},
   "outputs": [],
   "source": [
    "import numpy as np"
   ]
  },
  {
   "cell_type": "code",
   "execution_count": null,
   "metadata": {},
   "outputs": [],
   "source": [
    "print(np.cos(0.))"
   ]
  },
  {
   "cell_type": "markdown",
   "metadata": {},
   "source": [
    "Now functions and constants like `np.sqrt` and `np.pi` will work.  Go back and fix the square root and sine."
   ]
  },
  {
   "cell_type": "markdown",
   "metadata": {},
   "source": [
    "### Debugging aside . . .\n",
    "\n",
    "Suppose you try to import and it fails (**go ahead and evaluate the cell**):"
   ]
  },
  {
   "cell_type": "code",
   "execution_count": null,
   "metadata": {},
   "outputs": [],
   "source": [
    "import numpie"
   ]
  },
  {
   "cell_type": "markdown",
   "metadata": {},
   "source": [
    "When you get a `ModuleNotFoundError`, the first thing to check is whether you have misspelled the name. Try using Google, e.g., search for \"python numpie\". In this case (and in most others), Google will suggest the correct name (here it is numpy).  If the name does exist, check whether it sounds like the package you wanted.\n",
    "\n",
    "If you have the correct spelling, check whether you have installed the relevant package.  If you installed Python with Anaconda (which we will assume you did -- if not, do it!), then use `conda list`, e.g., `conda list numpy` in a Terminal window (on a Mac or Linux box) or in an Anaconda Prompt window (on a Windows PC)."
   ]
  },
  {
   "cell_type": "markdown",
   "metadata": {},
   "source": [
    "### numpy arrays\n",
    "\n",
    "At first, we will most often use numpy arrays so we'll start with those.  They are *like* lists delimited by square brackets, i.e., `[]`s, and we will construct them with `np.arange(min, max, step)` to get an array from `min` to `max` in steps of `step`. Examples:"
   ]
  },
  {
   "cell_type": "code",
   "execution_count": null,
   "metadata": {
    "scrolled": true
   },
   "outputs": [],
   "source": [
    "t_pts = np.arange(0., 10., .1)\n",
    "t_pts"
   ]
  },
  {
   "cell_type": "markdown",
   "metadata": {},
   "source": [
    "If we give a numpy array to a function, each term in the list is evaluated with that function:"
   ]
  },
  {
   "cell_type": "code",
   "execution_count": null,
   "metadata": {},
   "outputs": [],
   "source": [
    "x = np.arange(1., 5., 1.)\n",
    "print(x)\n",
    "print(x**2)\n",
    "print(np.sqrt(x))"
   ]
  },
  {
   "cell_type": "markdown",
   "metadata": {},
   "source": [
    "We can pick out elements of the list.  Why does the last one fail? "
   ]
  },
  {
   "cell_type": "code",
   "execution_count": null,
   "metadata": {},
   "outputs": [],
   "source": [
    "print(x[0])\n",
    "print(x[3])\n",
    "print(x[4])"
   ]
  },
  {
   "cell_type": "markdown",
   "metadata": {},
   "source": [
    "## Getting help\n",
    "\n",
    "You will often need help identifying the appropriate Python (or numpy or scipy or ...) command or you will need an example of how to do something or you may get an error message you can't figure out.  In all of these cases, Google (or equivalent) is your friend. Always include \"python\" in the search string (or \"numpy\" or \"matplotlib\" or ...) to avoid getting results for a different language. You will usually get an online manual as one of the first responses if you ask about a function; these usually have examples if you scroll down. Otherwise, answers from *Stack Overflow* queries are your best bet to find a useful answer."
   ]
  },
  {
   "cell_type": "markdown",
   "metadata": {},
   "source": [
    "## Functions\n",
    "\n",
    "There are many Python language features that we will use eventually, but in the short term what we need first are functions.  Here we first see the role of *indentation* in Python in place of {}s or ()s in other languages.  We'll always indent four spaces (never tabs!).  We know a function definition is complete when the indentation stops. \n",
    "\n",
    "To find out about a Python function or one you define, put your cursor on the function name and hit shift+Tab+Tab. **Go back and try it on `np.arange`.**  "
   ]
  },
  {
   "cell_type": "code",
   "execution_count": null,
   "metadata": {},
   "outputs": [],
   "source": [
    "# Use \"def\" to create new functions.  \n",
    "#  Note the colon and indentation (4 spaces).\n",
    "def my_function(x):\n",
    "    \"\"\"This function squares the input.  Always include a brief description\n",
    "        at the top between three starting and three ending quotes.  We will\n",
    "        talk more about proper documentation later.\n",
    "        Try shift+Tab+Tab after you have evaluated this function.\n",
    "    \"\"\"\n",
    "    return x**2\n",
    "\n",
    "print(my_function(5.))\n",
    "\n",
    "# We can pass an array to the function and it is evaluated term-by-term.\n",
    "x_pts = np.arange(1.,10.,1.)\n",
    "print(my_function(x_pts))"
   ]
  },
  {
   "cell_type": "code",
   "execution_count": null,
   "metadata": {
    "scrolled": true
   },
   "outputs": [],
   "source": [
    "# Two variables, with a default for the second\n",
    "def add(x, y=4.):\n",
    "    \"\"\"Add two numbers.\"\"\"\n",
    "    print(\"x is {} and y is {}\".format(x, y))\n",
    "    return x + y  # Return values with a return statement\n",
    "\n",
    "# Calling functions with parameters\n",
    "print('The sum is ', add(5, 6))  # => prints out \"x is 5 and y is 6\" and returns 11\n",
    "\n",
    "# Another way to call functions is with keyword arguments\n",
    "add(y=6, x=5)  # Keyword arguments can arrive in any order.\n"
   ]
  },
  {
   "cell_type": "markdown",
   "metadata": {},
   "source": [
    "How do you explain the following result?"
   ]
  },
  {
   "cell_type": "code",
   "execution_count": null,
   "metadata": {},
   "outputs": [],
   "source": [
    "add(2)"
   ]
  },
  {
   "cell_type": "markdown",
   "metadata": {},
   "source": [
    "### Debugging aside . . .\n",
    "\n",
    "There are two bugs in the following function.  **Note the line where an error is first reported and fix the bugs sequentially (so you see the different error messages).**"
   ]
  },
  {
   "cell_type": "code",
   "execution_count": null,
   "metadata": {},
   "outputs": [],
   "source": [
    "def hello_function()\n",
    "    msg = \"hello, world!\"\n",
    "    print(msg)\n",
    "     return msg"
   ]
  },
  {
   "cell_type": "markdown",
   "metadata": {},
   "source": [
    "## Plotting with Matplotlib\n",
    "\n",
    "Matplotlib is the plotting library we'll use, at least at first.  We'll follow convention and abbreviate the module we need as `plt`.  The `%matplotlib inline` line tells the Jupyter notebook to make inline plots (we'll see other possibilities later)."
   ]
  },
  {
   "cell_type": "code",
   "execution_count": null,
   "metadata": {},
   "outputs": [],
   "source": [
    "%matplotlib inline\n",
    "\n",
    "import numpy as np\n",
    "import matplotlib.pyplot as plt"
   ]
  },
  {
   "cell_type": "markdown",
   "metadata": {},
   "source": [
    "Procedure we'll use to make the skeleton plot:\n",
    "0. Generate some data to plot in the form of arrays.\n",
    "1. Create a figure;\n",
    "2. add one or more subplots;\n",
    "3. make a plot and display it."
   ]
  },
  {
   "cell_type": "code",
   "execution_count": null,
   "metadata": {},
   "outputs": [],
   "source": [
    "t_pts = np.arange(0., 10., .1)     # step 0.\n",
    "x_pts = np.sin(t_pts)  # More often this would be from a function \n",
    "                       #  *we* write.\n",
    "\n",
    "my_fig = plt.figure()              # step 1.\n",
    "my_ax = my_fig.add_subplot(1,1,1)  # step 2: rows=1, cols=1, 1st subplot\n",
    "my_ax.plot(t_pts, x_pts)           # step 3: plot x vs. t"
   ]
  },
  {
   "cell_type": "markdown",
   "metadata": {},
   "source": [
    "NOTE: When making just a single plot, you will more usually see steps 1 to 3 compressed into `plt.plot(t_pts, np.sin(t_pts))`.  Don't do this.  It saves a couple of lines but restricts your ability to easily extend the plot, which is what we want to make easy."
   ]
  },
  {
   "cell_type": "markdown",
   "metadata": {},
   "source": [
    "We can always go back and dress up the plot:"
   ]
  },
  {
   "cell_type": "code",
   "execution_count": null,
   "metadata": {},
   "outputs": [],
   "source": [
    "my_fig = plt.figure()\n",
    "my_ax = my_fig.add_subplot(1,1,1)  # nrows=1, ncols=1, first plot\n",
    "my_ax.plot(t_pts, x_pts, color='blue', linestyle='--', label='sine')\n",
    "\n",
    "my_ax.set_xlabel('t')\n",
    "my_ax.set_ylabel(r'$\\sin(t)$')  # here $s to get LaTeX and r to render it\n",
    "my_ax.set_title('Sine wave')\n",
    "\n",
    "# here we'll put the function in the call to plot!\n",
    "my_ax.plot(t_pts, np.cos(t_pts), label='cosine')  # just label the plot\n",
    "\n",
    "my_ax.legend();  # turn on legend\n"
   ]
  },
  {
   "cell_type": "markdown",
   "metadata": {},
   "source": [
    "Now make two subplots:"
   ]
  },
  {
   "cell_type": "code",
   "execution_count": null,
   "metadata": {},
   "outputs": [],
   "source": [
    "y_pts = np.exp(t_pts)         # another function for a separate plot\n",
    "\n",
    "fig = plt.figure(figsize=(10,5))  # allow more room for two subplots\n",
    "\n",
    "# call the first axis ax1\n",
    "ax1 = fig.add_subplot(1,2,1)  # one row, two columns, first plot\n",
    "ax1.plot(t_pts, x_pts, color='blue', linestyle='--', label='sine')\n",
    "ax1.plot(t_pts, np.cos(t_pts), label='cosine')  # just label the plot\n",
    "ax1.legend()\n",
    "\n",
    "ax2 = fig.add_subplot(1,2,2)  # one row, two columns, second plot\n",
    "ax2.plot(t_pts, np.exp(t_pts), label='exponential')  \n",
    "ax2.legend();\n"
   ]
  },
  {
   "cell_type": "markdown",
   "metadata": {},
   "source": [
    "## Solving ordinary differential equations (ODEs)\n",
    "\n",
    "Newton's 2nd Law for one particle:\n",
    "\n",
    "$\\begin{align}\n",
    "  \\mathbf{F} = m\\mathbf{a} = m\\frac{d\\mathbf{v}}{dt} = m\\frac{d^2\\mathbf{x}}{dt^2}\n",
    "\\end{align}$ \n",
    "\n",
    "is a first-order differential equation in the velocity vector and a second-order differential equation in the position vector. Here we assume that $\\mathbf{F} = \\mathbf{F}(\\mathbf{x}, \\mathbf{v}, t)$ does not have higher derivatives. So we need to know how to solve such differential equations, usually with initial conditions (as opposed to boundary conditions). \n",
    "\n",
    "Here is how to do it with the Scipy function `odeint`.  (Note that `solve_ivp` is now preferred to `odeint`; we'll switch to that later.)"
   ]
  },
  {
   "cell_type": "markdown",
   "metadata": {},
   "source": [
    "### First-order ODE"
   ]
  },
  {
   "cell_type": "code",
   "execution_count": 2,
   "metadata": {},
   "outputs": [],
   "source": [
    "# Import the required modules\n",
    "import numpy as np\n",
    "import matplotlib.pyplot as plt\n",
    "\n",
    "from scipy.integrate import odeint  # Get only odeint from scipy.integrate\n",
    "# for the future:\n",
    "from scipy.integrate import solve_ivp   # Now preferred to odeint"
   ]
  },
  {
   "cell_type": "markdown",
   "metadata": {},
   "source": [
    "Let's try a one-dimensional first-order ODE, say:\n",
    "\n",
    "$\\begin{align}\n",
    "\\quad \n",
    "\\frac{dv}{dt} = -g, \\quad \\mbox{with} \\quad v(0) = 10\n",
    "\\end{align}$\n",
    "\n",
    "in some appropriate units (we'll use MKS units by default).  This ODE can be separated and directly integrated:\n",
    "\n",
    "$\\begin{align}\n",
    "  \\int_{v_0=10}^{v} dv' = - g \\int_{0}^{t} dt'\n",
    "  \\quad\\Longrightarrow\\quad\n",
    "    v - v_0 = - g (t - 0)\n",
    "  \\quad\\Longrightarrow\\quad\n",
    "   v(t) = 10 - gt\n",
    "\\end{align}$\n",
    "\n"
   ]
  },
  {
   "cell_type": "code",
   "execution_count": null,
   "metadata": {},
   "outputs": [],
   "source": [
    "# Define a function which calculates the derivative\n",
    "def dv_dt(v, t, g=9.8):\n",
    "    \"\"\"Returns the right side of a simple first-order ODE with default g.\"\"\"\n",
    "    return -g   \n",
    "\n",
    "t_pts = np.linspace(0., 10., 100)     # 100 points between t=0 and t=10.\n",
    "v_0 = 10.0  # the initial condition\n",
    "v_pts = odeint(dv_dt, v_0, t_pts)  # odeint( function for rhs, \n",
    "                                   #         initial value of v(t),\n",
    "                                   #         array of t values )\n"
   ]
  },
  {
   "cell_type": "markdown",
   "metadata": {},
   "source": [
    "Let's check the output $v(t)$.  Does it make sense?"
   ]
  },
  {
   "cell_type": "code",
   "execution_count": null,
   "metadata": {},
   "outputs": [],
   "source": [
    "v_pts"
   ]
  },
  {
   "cell_type": "markdown",
   "metadata": {},
   "source": [
    "Now plot $v(t)$ calculated numerically and the analytic solution:"
   ]
  },
  {
   "cell_type": "code",
   "execution_count": null,
   "metadata": {},
   "outputs": [],
   "source": [
    "g = 9.8\n",
    "v_pts_exact = v_0 - g*t_pts\n",
    "\n",
    "fig = plt.figure()\n",
    "ax = fig.add_subplot(1,1,1)\n",
    "ax.plot(t_pts, v_pts, label='numerical', color='blue', lw=4)\n",
    "ax.plot(t_pts, v_pts_exact, label='exact', color='red')\n",
    "\n",
    "ax.set_xlabel('t [sec]')\n",
    "ax.set_ylabel('v(t) [meters/sec]')\n",
    "\n",
    "ax.legend();"
   ]
  },
  {
   "cell_type": "markdown",
   "metadata": {},
   "source": [
    "We adjusted the colors and linewidths so you could see that the lines are on top of each other."
   ]
  },
  {
   "cell_type": "markdown",
   "metadata": {},
   "source": [
    "Try solving instead:\n",
    "\n",
    "$\\begin{align}\n",
    "\\quad \n",
    "\\frac{dx}{dt} = -x \\quad \\mbox{with} \\quad x(0) = 1\n",
    "\\end{align}$\n",
    "\n",
    "both analytically and numerically."
   ]
  },
  {
   "cell_type": "markdown",
   "metadata": {},
   "source": [
    "### Second-order ODE"
   ]
  },
  {
   "cell_type": "markdown",
   "metadata": {},
   "source": [
    "Suppose we have a second-order ODE such as:\n",
    "\n",
    "$$\n",
    "\\quad y'' + 2 y' + 2 y = \\cos(2x), \\quad \\quad y(0) = 0, \\; y'(0) = 0\n",
    "$$\n",
    "\n",
    "We can turn this into two first-order equations by defining a new dependent variable. For example,\n",
    "\n",
    "$$\n",
    "\\quad z \\equiv y' \\quad \\Rightarrow \\quad z' + 2 z + 2y = \\cos(2x), \\quad z(0)=y(0) = 0.\n",
    "$$\n",
    "\n",
    "Now introduce the vector \n",
    "\n",
    "$$\n",
    "  \\mathbf{U}(x) = \\left(\\begin{array}{c}\n",
    "                         y(x) \\\\\n",
    "                         z(x)\n",
    "                        \\end{array}\n",
    "                  \\right)\n",
    "        \\quad\\Longrightarrow\\quad\n",
    "    \\frac{d\\mathbf{U}}{dx} = \\left(\\begin{array}{c}\n",
    "                                    z \\\\\n",
    "                                    -2 y' - 2 y + \\cos(2x)\n",
    "                                   \\end{array}\n",
    "                             \\right) \n",
    "$$\n",
    "\n",
    "We can solve this system of ODEs using `odeint` with lists, as follows:"
   ]
  },
  {
   "cell_type": "code",
   "execution_count": 4,
   "metadata": {},
   "outputs": [
    {
     "name": "stdout",
     "output_type": "stream",
     "text": [
      "[[ 0.          0.        ]\n",
      " [ 0.00269556  0.06956331]\n",
      " [ 0.01018352  0.1270594 ]\n",
      " [ 0.02153526  0.17202791]\n",
      " [ 0.03579755  0.20427617]\n",
      " [ 0.05201267  0.22387719]\n",
      " [ 0.06923823  0.23116275]\n",
      " [ 0.08656624  0.22671163]\n",
      " [ 0.10314113  0.21133306]\n",
      " [ 0.11817638  0.18604607]\n",
      " [ 0.13096944  0.15205454]\n",
      " [ 0.14091454  0.11071883]\n",
      " [ 0.14751344  0.06352453]\n",
      " [ 0.15038348  0.01204866]\n",
      " [ 0.14926326 -0.04207556]\n",
      " [ 0.14401544 -0.09719494]\n",
      " [ 0.13462692 -0.15167273]\n",
      " [ 0.12120621 -0.20392433]\n",
      " [ 0.10397824 -0.25245166]\n",
      " [ 0.08327654 -0.29587541]\n",
      " [ 0.05953322 -0.33296443]\n",
      " [ 0.03326678 -0.36266174]\n",
      " [ 0.00506812 -0.38410653]\n",
      " [-0.02441493 -0.39665163]\n",
      " [-0.05449423 -0.39987623]\n",
      " [-0.0844587  -0.39359341]\n",
      " [-0.11359208 -0.37785242]\n",
      " [-0.14119064 -0.35293571]\n",
      " [-0.16658049 -0.31935068]\n",
      " [-0.18913407 -0.27781642]\n",
      " [-0.20828543 -0.22924577]\n",
      " [-0.22354406 -0.174723  ]\n",
      " [-0.23450683 -0.11547778]\n",
      " [-0.24086786 -0.0528559 ]\n",
      " [-0.24242611  0.01171254]\n",
      " [-0.23909044  0.07674676]\n",
      " [-0.23088216  0.14074996]\n",
      " [-0.21793493  0.20224427]\n",
      " [-0.20049198  0.25980514]\n",
      " [-0.17890088  0.31209454]\n",
      " [-0.15360579  0.35789196]\n",
      " [-0.12513758  0.39612279]\n",
      " [-0.09410178  0.42588324]\n",
      " [-0.06116496  0.44646134]\n",
      " [-0.0270396   0.45735355]\n",
      " [ 0.00753212  0.45827652]\n",
      " [ 0.04179521  0.44917385]\n",
      " [ 0.074999    0.43021763]\n",
      " [ 0.10641434  0.40180473]\n",
      " [ 0.13535019  0.364548  ]\n",
      " [ 0.16116943  0.31926246]\n",
      " [ 0.18330343  0.26694695]\n",
      " [ 0.20126508  0.20876149]\n",
      " [ 0.21465997  0.14600107]\n",
      " [ 0.22319547  0.08006621]\n",
      " [ 0.2266875   0.01243125]\n",
      " [ 0.22506486 -0.05538916]\n",
      " [ 0.21837094 -0.12187444]\n",
      " [ 0.20676291 -0.18553263]\n",
      " [ 0.19050823 -0.2449343 ]\n",
      " [ 0.16997873 -0.29874502]\n",
      " [ 0.14564228 -0.34575575]\n",
      " [ 0.11805229 -0.38491032]\n",
      " [ 0.08783526 -0.41532947]\n",
      " [ 0.05567663 -0.43633089]\n",
      " [ 0.02230536 -0.44744479]\n",
      " [-0.01152253 -0.44842464]\n",
      " [-0.04504107 -0.43925282]\n",
      " [-0.07749161 -0.42014115]\n",
      " [-0.10813996 -0.39152613]\n",
      " [-0.13629306 -0.35405915]\n",
      " [-0.16131454 -0.30859174]\n",
      " [-0.18263921 -0.25615637]\n",
      " [-0.19978579 -0.19794307]\n",
      " [-0.21236779 -0.1352725 ]\n",
      " [-0.22010229 -0.06956608]\n",
      " [-0.22281626 -0.00231375]\n",
      " [-0.22045056  0.06495972]\n",
      " [-0.21306116  0.13072934]\n",
      " [-0.20081792  0.19350438]\n",
      " [-0.18400072  0.25186219]\n",
      " [-0.16299307  0.30448044]\n",
      " [-0.13827344  0.35016705]\n",
      " [-0.11040439  0.38788724]\n",
      " [-0.08001978  0.41678697]\n",
      " [-0.04781042  0.43621228]\n",
      " [-0.01450841  0.44572411]\n",
      " [ 0.0191295   0.44510826]\n",
      " [ 0.05233906  0.43438022]\n",
      " [ 0.08436583  0.4137848 ]\n",
      " [ 0.11448233  0.38379061]\n",
      " [ 0.14200451  0.34507936]\n",
      " [ 0.16630726  0.29853045]\n",
      " [ 0.1868386   0.24520098]\n",
      " [ 0.20313218  0.18630179]\n",
      " [ 0.21481786  0.12316998]\n",
      " [ 0.22163012  0.05723859]\n",
      " [ 0.22341403 -0.00999592]\n",
      " [ 0.2201288  -0.0770076 ]\n",
      " [ 0.21184868 -0.14227564]\n",
      " [ 0.1987613  -0.20431883]\n",
      " [ 0.18116335 -0.2617292 ]\n",
      " [ 0.15945389 -0.31320392]\n",
      " [ 0.1341253  -0.35757489]\n",
      " [ 0.10575208 -0.39383518]\n",
      " [ 0.0749778  -0.42116192]\n",
      " [ 0.04250056 -0.4389349 ]\n",
      " [ 0.00905708 -0.44675069]\n",
      " [-0.02459396 -0.44443178]\n",
      " [-0.05768917 -0.43203058]\n",
      " [-0.08947775 -0.40982825]\n",
      " [-0.11923854 -0.37832831]\n",
      " [-0.14629635 -0.33824518]\n",
      " [-0.17003732 -0.29048806]\n",
      " [-0.1899228  -0.23614019]\n",
      " [-0.20550162 -0.17643438]\n",
      " [-0.21642028 -0.11272497]\n",
      " [-0.22243101 -0.04645714]\n",
      " [-0.22339734  0.02086589]\n",
      " [-0.21929726  0.08771695]\n",
      " [-0.21022368  0.15257955]\n",
      " [-0.19638232  0.21398234]\n",
      " [-0.17808706  0.2705324 ]\n",
      " [-0.15575282  0.3209469 ]\n",
      " [-0.12988614  0.3640822 ]\n",
      " [-0.1010737   0.39895976]\n",
      " [-0.06996899  0.42478835]\n",
      " [-0.03727752  0.44098203]\n",
      " [-0.00374079  0.44717339]\n",
      " [ 0.02988051  0.44322192]\n",
      " [ 0.06282379  0.42921719]\n",
      " [ 0.09434181  0.40547683]\n",
      " [ 0.12371968  0.37253927]\n",
      " [ 0.15029103  0.33115163]\n",
      " [ 0.17345316  0.28225265]\n",
      " [ 0.19268069  0.22695152]\n",
      " [ 0.20753751  0.1665026 ]\n",
      " [ 0.21768662  0.10227705]\n",
      " [ 0.22289782  0.03573172]\n",
      " [ 0.22305293 -0.03162394]\n",
      " [ 0.21814844 -0.0982621 ]\n",
      " [ 0.2082956  -0.16267119]\n",
      " [ 0.19371793 -0.22339019]\n",
      " [ 0.17474611 -0.27904182]\n",
      " [ 0.15181049 -0.3283637 ]\n",
      " [ 0.12543134 -0.37023704]\n",
      " [ 0.09620703 -0.40371203]\n",
      " [ 0.06480049 -0.42802933]\n",
      " [ 0.03192414 -0.44263737]\n",
      " [-0.00167629 -0.44720478]\n",
      " [-0.0352386  -0.44162797]\n",
      " [-0.06800148 -0.42603345]\n",
      " [-0.09922175 -0.40077497]\n",
      " [-0.12819122 -0.36642549]\n",
      " [-0.15425277 -0.32376418]\n",
      " [-0.17681523 -0.27375876]\n",
      " [-0.1953668  -0.21754355]\n",
      " [-0.20948666 -0.15639371]\n",
      " [-0.21885454 -0.09169634]\n",
      " [-0.22325793 -0.02491902]\n",
      " [-0.22259696  0.0424235 ]\n",
      " [-0.21688663  0.10880364]\n",
      " [-0.20625647  0.17271565]\n",
      " [-0.19094761  0.23270978]\n",
      " [-0.17130732  0.28742515]\n",
      " [-0.14778113  0.33562061]\n",
      " [-0.12090268  0.3762029 ]\n",
      " [-0.0912817   0.40825149]\n",
      " [-0.05959009  0.43103938]\n",
      " [-0.02654674  0.44404968]\n",
      " [ 0.0070988   0.44698726]\n",
      " [ 0.04058332  0.43978549]\n",
      " [ 0.07314728  0.42260773]\n",
      " [ 0.10405199  0.39584365]\n",
      " [ 0.13259642  0.36010035]\n",
      " [ 0.15813308  0.31618863]\n",
      " [ 0.1800827   0.26510456]\n",
      " [ 0.19794738  0.20800693]\n",
      " [ 0.21132189  0.14619092]\n",
      " [ 0.21990283  0.08105875]\n",
      " [ 0.22349557  0.01408786]\n",
      " [ 0.2220186  -0.0532026 ]\n",
      " [ 0.21550542 -0.11928624]\n",
      " [ 0.20410379 -0.18266403]\n",
      " [ 0.18807232 -0.24189833]\n",
      " [ 0.16777467 -0.29564549]\n",
      " [ 0.14367127 -0.34268631]\n",
      " [ 0.11630888 -0.38195375]\n",
      " [ 0.08630816 -0.41255707]\n",
      " [ 0.05434965 -0.43380207]\n",
      " [ 0.02115829 -0.44520684]\n",
      " [-0.01251302 -0.44651268]\n",
      " [-0.0459005  -0.43768995]\n",
      " [-0.07824679 -0.41893881]\n",
      " [-0.10881815 -0.39068458]\n",
      " [-0.13692113 -0.35356818]\n",
      " [-0.16191822 -0.30843155]\n",
      " [-0.18324242 -0.25629855]\n",
      " [-0.20041001 -0.19835176]\n",
      " [-0.21303156 -0.13590561]]\n"
     ]
    }
   ],
   "source": [
    "# Define a function for the right side\n",
    "def dU_dx(U, x):\n",
    "    \"\"\"Right side of the differential equation to be solved.\n",
    "    U is a two-component vector with y=U[0] and z=U[1]. \n",
    "    Thus this function should return [y', z']\n",
    "    \"\"\"\n",
    "    return [U[1], -2*U[1] - 2*U[0] + np.cos(2*x)]\n",
    "\n",
    "# initial condition U_0 = [y(0)=0, z(0)=y'(0)=0]\n",
    "U_0 = [0., 0.]\n",
    "\n",
    "x_pts = np.linspace(0, 15, 200)  # Set up the mesh of x points\n",
    "U_pts = odeint(dU_dx, U_0, x_pts)  # U_pts is a 2-dimensional array\n",
    "y_pts = U_pts[:,0]   # Ok, this is tricky.  For each x, U_pts has two \n",
    "                     #  components.  We want the upper component for all\n",
    "                     #  x, which is y(x).  The : means all of the first \n",
    "                     #  index, which is x, and the 0 means the first\n",
    "                     #  component in the other dimension.\n",
    "print(U_pts)"
   ]
  },
  {
   "cell_type": "code",
   "execution_count": 5,
   "metadata": {},
   "outputs": [
    {
     "data": {
      "text/plain": [
       "Text(0, 0.5, 'y')"
      ]
     },
     "execution_count": 5,
     "metadata": {},
     "output_type": "execute_result"
    },
    {
     "data": {
      "image/png": "[encoded data removed]",
      "text/plain": [
       "<Figure size 432x288 with 1 Axes>"
      ]
     },
     "metadata": {
      "needs_background": "light"
     },
     "output_type": "display_data"
    }
   ],
   "source": [
    "fig = plt.figure()\n",
    "ax = fig.add_subplot(1,1,1)\n",
    "ax.plot(x_pts, y_pts)\n",
    "ax.set_xlabel('x')\n",
    "ax.set_ylabel('y')"
   ]
  },
  {
   "cell_type": "markdown",
   "metadata": {},
   "source": [
    "## Widgets!\n",
    "\n",
    "A widget is an object such as a slider or a check box or a pulldown menu.  We can use them to make it easy to explore different parameter values in a problem we're solving, which is invaluable for building intuition.  They act on the argument of a function.  We'll look at a simple case here but plan to explore this much more as we proceed.\n",
    "\n",
    "The set of widgets we'll use here (there are others!) is from `ipywidgets`; we'll conventionally import the module as `import ipywidgets as widgets` and we'll also often use `display` from `Ipython.display`."
   ]
  },
  {
   "cell_type": "code",
   "execution_count": null,
   "metadata": {},
   "outputs": [],
   "source": [
    "import numpy as np\n",
    "import matplotlib.pyplot as plt\n",
    "\n",
    "import ipywidgets as widgets\n",
    "from IPython.display import display\n",
    "\n",
    "%matplotlib inline"
   ]
  },
  {
   "cell_type": "markdown",
   "metadata": {},
   "source": [
    "The simplest form is to use `interact`, which we pass a function name and the variables with ranges.  By default this makes a *slider*, which takes on integer or floating point values depending on whether you put decimal points in the range. **Try it! Then modify the function and try again.**"
   ]
  },
  {
   "cell_type": "code",
   "execution_count": null,
   "metadata": {},
   "outputs": [],
   "source": [
    "# We can do this to any function\n",
    "def test_f(x=5.):\n",
    "    \"\"\"Test function that prints the passed value and its square.\n",
    "       Note that there is no return value in this case.\"\"\"\n",
    "    print ('x = ', x, ' and  x^2 = ', x**2)\n",
    "    \n",
    "widgets.interact(test_f, x=(0.,10.));"
   ]
  },
  {
   "cell_type": "code",
   "execution_count": null,
   "metadata": {},
   "outputs": [],
   "source": [
    "# Explicit declaration of the widget (here FloatSlider) and details\n",
    "def test_f(x=5.):\n",
    "    \"\"\"Test function that prints the passed value and its square.\n",
    "       Note that there is no return value in this case.\"\"\"\n",
    "    print ('x = ', x, ' and  x^2 = ', x**2)\n",
    "    \n",
    "widgets.interact(test_f, \n",
    "                 x = widgets.FloatSlider(min=-10,max=30,step=1,value=10));"
   ]
  },
  {
   "cell_type": "markdown",
   "metadata": {},
   "source": [
    "Here's an example with some bells and whistles for a plot.  **Try making changes!**"
   ]
  },
  {
   "cell_type": "code",
   "execution_count": null,
   "metadata": {},
   "outputs": [],
   "source": [
    "def plot_it(freq=1., color='blue', lw=2, grid=True, xlabel='x', \n",
    "            function='sin'):\n",
    "    \"\"\" Make a simple plot of a trig function but allow the plot style\n",
    "        to be changed as well as the function and frequency.\"\"\"\n",
    "    t = np.linspace(-1., +1., 1000)  # linspace(min, max, total #)\n",
    "\n",
    "    fig = plt.figure(figsize=(8,6))\n",
    "    ax = fig.add_subplot(1,1,1)\n",
    "\n",
    "    if function=='sin':\n",
    "        ax.plot(t, np.sin(2*np.pi*freq*t), lw=lw, color=color)\n",
    "    elif function=='cos':\n",
    "        ax.plot(t, np.cos(2*np.pi*freq*t), lw=lw, color=color)\n",
    "    elif function=='tan':\n",
    "        ax.plot(t, np.tan(2*np.pi*freq*t), lw=lw, color=color)\n",
    "\n",
    "    ax.grid(grid)\n",
    "    ax.set_xlabel(xlabel)\n",
    "    \n",
    "widgets.interact(plot_it, \n",
    "                 freq=(0.1, 2.), color=['blue', 'red', 'green'], \n",
    "                 lw=(1, 10), xlabel=['x', 't', 'dog'],\n",
    "                 function=['sin', 'cos', 'tan'])\n",
    "    "
   ]
  },
  {
   "cell_type": "code",
   "execution_count": null,
   "metadata": {},
   "outputs": [],
   "source": []
  }
 ],
 "metadata": {
  "kernelspec": {
   "display_name": "Python 3",
   "language": "python",
   "name": "python3"
  },
  "language_info": {
   "codemirror_mode": {
    "name": "ipython",
    "version": 3
   },
   "file_extension": ".py",
   "mimetype": "text/x-python",
   "name": "python",
   "nbconvert_exporter": "python",
   "pygments_lexer": "ipython3",
   "version": "3.7.1"
  }
 },
 "nbformat": 4,
 "nbformat_minor": 2
}
