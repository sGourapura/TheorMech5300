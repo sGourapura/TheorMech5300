{
 "cells": [
  {
   "cell_type": "markdown",
   "metadata": {},
   "source": [
    "# Taylor problem 4.29 template\n",
    "\n",
    "In this problem the one-dimenstional potential energy is \n",
    "\n",
    "$\\begin{align}\n",
    "  U(x) = k x^4  \\qquad k > 0 \\;.\n",
    "\\end{align}$\n",
    "\n",
    "**However, at present the graph and calculation is for a different potential.  Your job is to change it everywhere relevant to be the correct potential.  Look for places with ###.**\n",
    "\n",
    "We can apply the formula for the time between positions $x_0$ and $x$ given by\n",
    "\n",
    "$\\begin{align}\n",
    "  t = \\sqrt{\\frac{m}{2}} \\int_{x_0}^{x} \\frac{dx'}{\\sqrt{E - U(x')}}\n",
    "\\end{align}$\n",
    "\n",
    "to the interval from $x'=0$ to $x'=x_{max}$, which is one-fourth of the period $\\tau$:\n",
    "\n",
    "$\\begin{align}\n",
    "  \\tau = 2\\sqrt{2m} \\int_{0}^{x_{max}} \\frac{dx'}{\\sqrt{E - U(x')}}\n",
    "\\end{align}$\n",
    "\n",
    "Because we'll be evaluating integrals, we import a numerical integration function called `quad` as well as our standard numpy and matplotlib imports."
   ]
  },
  {
   "cell_type": "code",
   "execution_count": 3,
   "metadata": {},
   "outputs": [],
   "source": [
    "%matplotlib inline"
   ]
  },
  {
   "cell_type": "code",
   "execution_count": 4,
   "metadata": {},
   "outputs": [],
   "source": [
    "import numpy as np\n",
    "import matplotlib.pyplot as plt\n",
    "from scipy.integrate import quad"
   ]
  },
  {
   "cell_type": "markdown",
   "metadata": {},
   "source": [
    "Make a plot of the potential with simple values of the constants."
   ]
  },
  {
   "cell_type": "code",
   "execution_count": 5,
   "metadata": {},
   "outputs": [
    {
     "data": {
      "image/png": "[encoded data removed]",
      "text/plain": [
       "<Figure size 360x360 with 1 Axes>"
      ]
     },
     "metadata": {
      "needs_background": "light"
     },
     "output_type": "display_data"
    }
   ],
   "source": [
    "# set constants to 1 per instructions in the problem statement\n",
    "k = m = A = 1.\n",
    "\n",
    "x_pts = np.arange(-2.,2.,0.01)\n",
    "U_of_x_pts = k*x_pts**4   ### Use the correct potential here\n",
    "\n",
    "fig_U = plt.figure(figsize=(5,5))\n",
    "ax_U = fig_U.add_subplot(1,1,1)\n",
    "\n",
    "ax_U.plot(x_pts, U_of_x_pts, 'b-', label=r'$k x^4$', lw=2)  ### fix label\n",
    "ax_U.set_xlabel('x')\n",
    "ax_U.set_ylabel('U(x)')\n",
    "ax_U.set_title(\"Taylor 4.29 Part A\")\n",
    "\n",
    "# add the harmonic oscillator for comparison\n",
    "ax_U.plot(x_pts, k*x_pts**2, 'r:', label=r'$k x^2$', lw=3)\n",
    "\n",
    "ax_U.set_xlim(-1.5, 1.5)\n",
    "ax_U.set_ylim(-1., 6.)\n",
    "# draw a black horizontal line at E but with alpha=0.3 so less distracting\n",
    "ax_U.plot([-2.,2.], [1.,1.], 'k-', label='E', alpha=0.3 )  \n",
    "\n",
    "ax_U.legend();\n",
    "fig_U.savefig('Taylor_prob_4.29.png', bbox_inches='tight')"
   ]
  },
  {
   "cell_type": "markdown",
   "metadata": {},
   "source": [
    "Change the integral here to the relevant one for this problem."
   ]
  },
  {
   "cell_type": "code",
   "execution_count": 6,
   "metadata": {},
   "outputs": [],
   "source": [
    "def integrand(x):\n",
    "    \"\"\"Integrand of a dimensionless integral that is part of an expression\n",
    "        for the period given a potential energy U.\n",
    "    \"\"\"\n",
    "    U = x**4\n",
    "    E=1\n",
    "    return 2*np.sqrt(2)*1./np.sqrt(E-U)     ### fix this expression"
   ]
  },
  {
   "cell_type": "markdown",
   "metadata": {},
   "source": [
    "It's always a good idea to plot the integrand before doing the integral.  The integral is the area under this curve."
   ]
  },
  {
   "cell_type": "code",
   "execution_count": 7,
   "metadata": {},
   "outputs": [
    {
     "data": {
      "image/png": "[encoded data removed]",
      "text/plain": [
       "<Figure size 432x288 with 1 Axes>"
      ]
     },
     "metadata": {
      "needs_background": "light"
     },
     "output_type": "display_data"
    }
   ],
   "source": [
    "x_pts = np.arange(0., 1., 0.01)\n",
    "\n",
    "fig = plt.figure()\n",
    "ax = fig.add_subplot(1,1,1)\n",
    "ax.plot(x_pts, integrand(x_pts), 'r-')\n",
    "ax.set_xlabel('x')\n",
    "ax.set_ylabel('integrand(x)');"
   ]
  },
  {
   "cell_type": "code",
   "execution_count": 8,
   "metadata": {
    "scrolled": true
   },
   "outputs": [
    {
     "name": "stdout",
     "output_type": "stream",
     "text": [
      "The integral is 3.7081493546 with estimated error 4.0138e-10.\n"
     ]
    }
   ],
   "source": [
    "answer, error = quad(integrand, 0., 1.)\n",
    "# Use f-strings for formatting (google \"python f-string\" to learn more)\n",
    "print(f'The integral is {answer:.10f} with estimated error {error:.4e}.')"
   ]
  },
  {
   "cell_type": "code",
   "execution_count": null,
   "metadata": {},
   "outputs": [],
   "source": []
  }
 ],
 "metadata": {
  "kernelspec": {
   "display_name": "Python 3",
   "language": "python",
   "name": "python3"
  },
  "language_info": {
   "codemirror_mode": {
    "name": "ipython",
    "version": 3
   },
   "file_extension": ".py",
   "mimetype": "text/x-python",
   "name": "python",
   "nbconvert_exporter": "python",
   "pygments_lexer": "ipython3",
   "version": "3.7.1"
  }
 },
 "nbformat": 4,
 "nbformat_minor": 2
}
