{
 "cells": [
  {
   "cell_type": "code",
   "execution_count": 7,
   "metadata": {},
   "outputs": [],
   "source": [
    "import numpy as np\n",
    "import matplotlib.pyplot as plt\n",
    "from scipy.integrate import solve_ivp\n",
    "\n",
    "# Change the common font size\n",
    "font_size = 14\n",
    "plt.rcParams.update({'font.size': font_size})"
   ]
  },
  {
   "cell_type": "code",
   "execution_count": 11,
   "metadata": {},
   "outputs": [],
   "source": [
    "class Oscillator:\n",
    "    \"\"\"\n",
    "    Oscillator class is the parent class for Pendulum subclass.\n",
    "    Here, we store the omega_0 value and solve the ode.\n",
    "    Note that for solving the ode in practice, we need to provide\n",
    "    a y array = [phi, phi_dot], and it will output a y array.\n",
    "    \n",
    "    \"\"\"\n",
    "    def __init__(self, omega_0=1.):\n",
    "        self.omega_0 = omega_0\n",
    "                 \n",
    "    def solve_ode(self, t_pts, y, abserr=1.0e-12, relerr=1.0e-12):\n",
    "        \"\"\"\n",
    "        Solve the ODE given initial conditions.\n",
    "        For now use odeint, but we have the option to switch.\n",
    "        Specify smaller abserr and relerr to get more precision.\n",
    "        \"\"\"\n",
    "\n",
    "        solution = solve_ivp(self.dy_dt, (t_pts[0], t_pts[-1]), \\\n",
    "                            y, t_eval=t_pts, \\\n",
    "                            atol=abserr, rtol=relerr)\n",
    "        return solution.y\n",
    "\n",
    "class Pendulum(Oscillator):\n",
    "    \"\"\"\n",
    "    Pendulum class implements the parameters and differential equation for \n",
    "     a pendulum using the notation from Taylor.\n",
    "     \n",
    "    Parameters\n",
    "    ----------\n",
    "    omega_0 : float\n",
    "        natural frequency of the pendulum (\\sqrt{g/l} where l is the \n",
    "        pendulum length) \n",
    "    beta : float\n",
    "        coefficient of friction \n",
    "    gamma_ext : float\n",
    "        amplitude of external force is gamma * omega_0**2 \n",
    "    omega_ext : float\n",
    "        frequency of external force \n",
    "    phi_ext : float\n",
    "        phase angle for external force \n",
    "\n",
    "    Methods\n",
    "    -------\n",
    "    dy_dt(t, y)\n",
    "        Returns the right side of the differential equation in vector y, \n",
    "        given time t and the corresponding value of y.\n",
    "    driving_force(t) \n",
    "        Returns the value of the external driving force at time t.\n",
    "    \"\"\"\n",
    "    def __init__(self, beta=0.2,\n",
    "                 gamma_ext=0.2, omega_ext=0.689, phi_ext=0.\n",
    "                ):\n",
    "        self.beta = beta\n",
    "        self.gamma_ext = gamma_ext\n",
    "        self.omega_ext = omega_ext\n",
    "        self.phi_ext = phi_ext\n",
    "    \n",
    "    def dy_dt(self, t, y):\n",
    "        \"\"\"\n",
    "        This function returns the right-hand side of the diffeq: \n",
    "        [dphi/dt d^2phi/dt^2]\n",
    "        \n",
    "        Parameters\n",
    "        ----------\n",
    "        t : float\n",
    "            time \n",
    "        y : float\n",
    "            A 2-component vector with y[0] = phi(t) and y[1] = dphi/dt\n",
    "            \n",
    "        Returns\n",
    "        -------\n",
    "        \n",
    "        \"\"\"\n",
    "        F_ext = self.driving_force(t)\n",
    "        return [y[1], -self.omega_0**2 * np.sin(y[0]) - 2.*self.beta * y[1] \\\n",
    "                       + F_ext]\n",
    "    \n",
    "    def driving_force(self, t):\n",
    "        \"\"\"\n",
    "        This function returns the value of the driving force at time t.\n",
    "        \"\"\"\n",
    "        return self.gamma_ext * self.omega_0**2 \\\n",
    "                              * np.cos(self.omega_ext*t + self.phi_ext)  \n",
    "    "
   ]
  },
  {
   "cell_type": "code",
   "execution_count": 16,
   "metadata": {},
   "outputs": [],
   "source": [
    "p1 = Pendulum(omega_0=3., gamma_ext=5.)"
   ]
  },
  {
   "cell_type": "code",
   "execution_count": 17,
   "metadata": {},
   "outputs": [
    {
     "name": "stdout",
     "output_type": "stream",
     "text": [
      "3.0 5.0\n"
     ]
    }
   ],
   "source": [
    "print(p1.omega_0, p1.gamma_ext)"
   ]
  },
  {
   "cell_type": "code",
   "execution_count": null,
   "metadata": {},
   "outputs": [],
   "source": []
  }
 ],
 "metadata": {
  "kernelspec": {
   "display_name": "Python 3",
   "language": "python",
   "name": "python3"
  },
  "language_info": {
   "codemirror_mode": {
    "name": "ipython",
    "version": 3
   },
   "file_extension": ".py",
   "mimetype": "text/x-python",
   "name": "python",
   "nbconvert_exporter": "python",
   "pygments_lexer": "ipython3",
   "version": "3.7.1"
  }
 },
 "nbformat": 4,
 "nbformat_minor": 2
}
