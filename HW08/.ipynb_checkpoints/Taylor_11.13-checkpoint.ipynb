{
 "cells": [
  {
   "cell_type": "markdown",
   "metadata": {},
   "source": [
    "# Playing with coupled oscillators - v3\n",
    "\n",
    "This notebook builds on previous notebooks such as Orbit_games.ipynb to implement the solution of linear coupled differential equations using `solve_ivp` as well as with more analytic methods.  The formalism and notation is based on Taylor, Chapter 11: *Coupled Oscillators and Normal Modes*."
   ]
  },
  {
   "cell_type": "markdown",
   "metadata": {},
   "source": [
    "The general form of the equations to solve is compactly expressed in matrix form:\n",
    "\n",
    "$\\begin{align}\n",
    "  \\mathbf{M} \\mathbf{\\ddot q} = - \\mathbf{K} \\mathbf{q}\n",
    "\\end{align}$\n",
    "\n",
    "where $\\mathbf{M}$ and $\\mathbf{K}$ are $N \\times N$ symmetric matrices and $\\mathbf{q}$ is a vector of generalized coordinates (this is $\\mathbf{x}$ in the beginning discussion in Taylor).  \n",
    "\n",
    "We can solve this directly as differential equations or solve for normal modes.  For the former, we map the problem onto linear differential equations and the vectors $\\mathbf{y}$ and $d\\mathbf{y}/dt$, which are each of length $2N$.  Here is the $N=2$ mapping:\n",
    "\n",
    "$\\begin{align}\n",
    "  \\mathbf{y} = \\left( \\begin{array}{c}\n",
    "                         q_1 \\\\\n",
    "                         q_2 \\\\\n",
    "                         \\dot q_1 \\\\\n",
    "                         \\dot q_2\n",
    "                      \\end{array}   \n",
    "                       \\right)\n",
    " \\qquad\\qquad\n",
    "\\frac{d\\mathbf{y}}{dt} = \\left( \\begin{array}{c}\n",
    "                         \\dot q_1 \\\\\n",
    "                         \\dot q_2 \\\\\n",
    "                         \\ddot q_1 \\\\\n",
    "                         \\ddot q_2\n",
    "                      \\end{array}   \n",
    "                       \\right)\n",
    "\\end{align}$\n",
    "\n",
    "Then for the $\\ddot q$ parts we use the matrix solution of our equation:\n",
    "\n",
    "$\\begin{align}\n",
    "  \\mathbf{\\ddot q} = - \\mathbf{M}^{-1} \\mathbf{K} \\mathbf{q}\n",
    "\\end{align}$\n",
    "\n",
    "where $\\mathbf{M}^{-1}$ means the matrix inverse.  Check out the implementation below!\n",
    "\n",
    "To solve for normal modes, we solve the generalized eigenvalue problem\n",
    "\n",
    "$\\begin{align}\n",
    "  (\\mathbf{K} - \\omega^2 \\mathbf{M}) \\mathbf{a} = 0\n",
    "\\end{align}$\n",
    "\n",
    "using functions from `scipy.linalg` to find the eigenvalues and eigenvectors.  We use these below together with the numerical solutions to make plots of the normal modes."
   ]
  },
  {
   "cell_type": "code",
   "execution_count": 66,
   "metadata": {},
   "outputs": [],
   "source": [
    "import numpy as np\n",
    "import matplotlib.pyplot as plt\n",
    "from scipy.integrate import solve_ivp\n",
    "from scipy import linalg as LA "
   ]
  },
  {
   "cell_type": "code",
   "execution_count": 67,
   "metadata": {},
   "outputs": [],
   "source": [
    "# Change the common font size\n",
    "font_size = 14\n",
    "plt.rcParams.update({'font.size': font_size})"
   ]
  },
  {
   "cell_type": "code",
   "execution_count": 68,
   "metadata": {},
   "outputs": [],
   "source": [
    "class CoupledOscillators:\n",
    "    \"\"\"\n",
    "    Solve the equations for linear coupled oscillators in matrix formulation.\n",
    "    \"\"\"\n",
    "    \n",
    "    def __init__(self, M_matrix, K_matrix, b_matrix):\n",
    "        self.M_matrix = M_matrix\n",
    "        self.K_matrix = K_matrix\n",
    "        self.q_len = len(self.M_matrix)\n",
    "        self.b_matrix = b_matrix\n",
    "        self.full_matrix = np.zeros((self.q_len, self.q_len))\n",
    "        \n",
    "            \n",
    "    def dy_dt(self, t, y):\n",
    "        \"\"\"\n",
    "        This function returns the right-hand side of the diffeq: \n",
    "        [dq_vec/dt d^2q_vec/dt^2]\n",
    "        \n",
    "        Parameters\n",
    "        ----------\n",
    "        t : float\n",
    "            time \n",
    "        y : float\n",
    "            vector with y[:q_len] = q_vec, y[q_len:] = dqvec/dt\n",
    "            \n",
    "        \"\"\"\n",
    "        dy_dt_vec = np.zeros(2*self.q_len)   # Initialize to twice q_vec size\n",
    "        # Set the upper half [:self.q_len] of dy_dt to the lower half of y\n",
    "        dy_dt_vec[:self.q_len] = y[self.q_len:]  \n",
    "        # Set the lower half [self.q_len:] of dy_dt to the vector that\n",
    "        #  results from M^{-1} K y where @ is matrix multiplication\n",
    "        dy_dt_vec[self.q_len:] = -1.* LA.inv(self.M_matrix) @ \\\n",
    "                                      (self.K_matrix @ y[:self.q_len] + self.b_matrix @ y[self.q_len:])\n",
    "        return dy_dt_vec\n",
    "    \n",
    "    \n",
    "    def solve_ode(self, t_pts, q_vec_0, q_vec_dot_0,\n",
    "                  method='RK45',\n",
    "                  abserr=1.0e-10, relerr=1.0e-10):\n",
    "        \"\"\"\n",
    "        Solve the ODE given initial conditions.\n",
    "        Use solve_ivp with the option of specifying the method.\n",
    "        Specify smaller abserr and relerr to get more precision.\n",
    "        \"\"\"\n",
    "        y = np.concatenate((q_vec_0, q_vec_dot_0))\n",
    "        solution = solve_ivp(self.dy_dt, (t_pts[0], t_pts[-1]), \n",
    "                             y, t_eval=t_pts, method=method, \n",
    "                             atol=abserr, rtol=relerr)\n",
    "        q_vec, q_vec_dot = np.array_split(solution.y, 2)\n",
    "        return q_vec, q_vec_dot\n",
    "    \n",
    "\n",
    "    def find_eigenmodes(self):\n",
    "        \"\"\"\n",
    "        Find the normal modes.\n",
    "        \"\"\"\n",
    "        eig_vals, eig_vecs = LA.eigh(K_matrix, M_matrix)\n",
    "        self.frequencies = np.sqrt(eig_vals)\n",
    "        return eig_vals, eig_vecs\n",
    "    \n",
    "    def plot_eigenmodes(self, t_pts, output_file=None):\n",
    "        \"\"\"\n",
    "        plot the normal modes separately\n",
    "        \"\"\"\n",
    "        from itertools import cycle\n",
    "        colors = ['blue', 'green', 'red', 'purple']\n",
    "\n",
    "        eig_vals, eig_vecs = self.find_eigenmodes()\n",
    "        for i in np.arange(self.q_len): \n",
    "            q_vec_0 = eig_vecs[:,i]   # this is the i'th eigenvector\n",
    "            q_vec_dot_0 = np.zeros(self.q_len)  # start with all qdots = 0\n",
    "            q_vec, q_vec_dot = self.solve_ode(t_pts, q_vec_0, q_vec_dot_0)\n",
    "             \n",
    "            fig, axes = plt.subplots(self.q_len, 1, \n",
    "                                     figsize=(10, 2.*self.q_len))\n",
    "            color_list = cycle(colors)\n",
    "            for j in np.arange(self.q_len):\n",
    "               axes[j].plot(t_pts, q_vec[j], color=next(color_list))\n",
    "               axes[j].set_xlabel(r'$t$')\n",
    "               axes[j].set_ylabel(fr'$q_{j+1:d}$')\n",
    "               axes[j].axvline(2.*np.pi/np.sqrt(eig_vals[i]), \n",
    "                               color='black', linestyle=':')\n",
    "            overall_title = fr'Normal mode {i+1:d}, ' + \\\n",
    "                            fr'$\\omega = {co1.frequencies[i]:.2f}$' \n",
    "            fig.suptitle(overall_title, va='center')\n",
    "            fig.tight_layout()\n",
    "            if output_file:\n",
    "                 output_file_name = output_file.replace('.', f'_{i:d}.', 1)\n",
    "                 fig.savefig(output_file_name, dpi=200, bbox_inches='tight')\n",
    "                \n",
    "    def plot_arbitrary(self, t_pts, q_vec_0, q_dot_vec_0, output_file=None):\n",
    "        \"\"\"\n",
    "        plot the normal modes separately\n",
    "        \"\"\"\n",
    "        from itertools import cycle\n",
    "        colors = ['blue', 'green', 'red', 'purple']\n",
    "        \n",
    "        q_vec, q_vec_dot = self.solve_ode(t_pts, q_vec_0, q_dot_vec_0)\n",
    "         \n",
    "        fig, axes = plt.subplots(self.q_len, 1, \n",
    "                                 figsize=(10, 2.*self.q_len))\n",
    "        color_list = cycle(colors)\n",
    "        for j in np.arange(self.q_len):\n",
    "           axes[j].plot(t_pts, q_vec[j], color=next(color_list))\n",
    "           axes[j].set_xlabel(r'$t$')\n",
    "           axes[j].set_ylabel(fr'$q_{j+1:d}$')\n",
    "        overall_title = fr'Taylor 11.13, ' + \\\n",
    "                        fr'$\\omega = {co1.frequencies[0]:.2f}$' \n",
    "        fig.suptitle(overall_title, va='center')\n",
    "        fig.tight_layout()\n",
    "        if output_file:\n",
    "             #output_file_name = output_file.replace('.', f'_{i:d}.', 1)\n",
    "             fig.savefig(output_file, dpi=200, bbox_inches='tight')\n",
    "                  "
   ]
  },
  {
   "cell_type": "code",
   "execution_count": 69,
   "metadata": {},
   "outputs": [],
   "source": [
    "def start_stop_indices(t_pts, plot_start, plot_stop):\n",
    "    start_index = (np.fabs(t_pts-plot_start)).argmin()  # index in t_pts array \n",
    "    stop_index = (np.fabs(t_pts-plot_stop)).argmin()  # index in t_pts array \n",
    "    return start_index, stop_index"
   ]
  },
  {
   "cell_type": "markdown",
   "metadata": {},
   "source": [
    "## Section 11.2"
   ]
  },
  {
   "cell_type": "code",
   "execution_count": 70,
   "metadata": {},
   "outputs": [
    {
     "name": "stdout",
     "output_type": "stream",
     "text": [
      "M matrix: \n",
      " [[1. 0.]\n",
      " [0. 1.]] \n",
      "\n",
      "K matrix: \n",
      " [[ 1.2 -0.2]\n",
      " [-0.2  1.2]] \n",
      "\n",
      "b matrix: \n",
      " [[0.04 0.  ]\n",
      " [0.   0.04]]\n",
      "omega^2 = [1.  1.4]\n",
      "frequencies = [1.         1.18321596]\n"
     ]
    }
   ],
   "source": [
    "m = 1.\n",
    "M_matrix = np.array([ [m, 0.], [0., m] ])\n",
    "print('M matrix: \\n', M_matrix, '\\n')\n",
    "\n",
    "k = 1.\n",
    "k2 = 0.2\n",
    "K_matrix = np.array([ [k+k2, -k2], [-k2, k+k2]])\n",
    "print('K matrix: \\n', K_matrix, '\\n')\n",
    "\n",
    "b=0.04\n",
    "b_matrix = np.array([ [b, 0.], [0., b] ])\n",
    "print(\"b matrix: \\n\", b_matrix)\n",
    "\n",
    "co1 = CoupledOscillators(M_matrix, K_matrix, b_matrix)\n",
    "\n",
    "eig_vals, eig_vecs = co1.find_eigenmodes() # LA.eigh(K_matrix, M_matrix)\n",
    "\n",
    "print(f'omega^2 = {eig_vals}')\n",
    "print(f'frequencies = {co1.frequencies}')"
   ]
  },
  {
   "cell_type": "code",
   "execution_count": 71,
   "metadata": {
    "scrolled": true
   },
   "outputs": [
    {
     "name": "stdout",
     "output_type": "stream",
     "text": [
      "[-0.70710678 -0.70710678]\n",
      "[-0.70710678  0.70710678]\n"
     ]
    }
   ],
   "source": [
    "print(eig_vecs[:,0])\n",
    "print(eig_vecs[:,1])"
   ]
  },
  {
   "cell_type": "code",
   "execution_count": 72,
   "metadata": {},
   "outputs": [],
   "source": [
    "t_start = 0.\n",
    "t_end = 80.\n",
    "delta_t = 0.001\n",
    "\n",
    "t_pts = np.arange(t_start, t_end+delta_t, delta_t)  "
   ]
  },
  {
   "cell_type": "code",
   "execution_count": 73,
   "metadata": {},
   "outputs": [
    {
     "data": {
      "image/png": "[encoded data removed]",
      "text/plain": [
       "<Figure size 720x288 with 2 Axes>"
      ]
     },
     "metadata": {
      "needs_background": "light"
     },
     "output_type": "display_data"
    }
   ],
   "source": [
    "A=1.\n",
    "q_vec_0 = [A,0]\n",
    "q_dot_vec_0 = [0,0]\n",
    "co1.plot_arbitrary(t_pts,q_vec_0, q_dot_vec_0, 'Taylor_11.13.png')"
   ]
  },
  {
   "cell_type": "markdown",
   "metadata": {},
   "source": [
    "### Figure 11.6\n",
    "\n",
    "This has $A_1 = 1$, $A_2 = 0.7$, $\\delta_1 = 0$ and $\\delta_2 = \\pi/2$."
   ]
  },
  {
   "cell_type": "code",
   "execution_count": null,
   "metadata": {},
   "outputs": [],
   "source": [
    "t_start = 0.\n",
    "t_end = 500\n",
    "delta_t = 0.001\n",
    "\n",
    "t_pts = np.arange(t_start, t_end+delta_t, delta_t)  "
   ]
  },
  {
   "cell_type": "code",
   "execution_count": null,
   "metadata": {},
   "outputs": [],
   "source": [
    "colors = ['blue', 'green', 'red', 'purple']\n",
    "\n",
    "# changing A_i -> -A_i to match convention in Figure 11.6\n",
    "A_1 = 1.\n",
    "delta_1 = 0.\n",
    "A_2 = 1.\n",
    "delta_2 = 0\n",
    "\n",
    "omega_1 = co1.frequencies[0]\n",
    "omega_2 = co1.frequencies[1]\n",
    "\n",
    "q_vec_0 = A_1 * eig_vecs[:,0] * np.cos(-delta_1) + \\\n",
    "          A_2 * eig_vecs[:,1] * np.cos(-delta_2)\n",
    "q_vec_dot_0 = omega_1 * A_1 * eig_vecs[:,0] * np.sin(delta_1) + \\\n",
    "              omega_2 * A_2 * eig_vecs[:,1] * np.sin(delta_2)\n",
    "q_vec_11p6, q_vec_dot_11p6 = co1.solve_ode(t_pts, q_vec_0, q_vec_dot_0)\n",
    "\n",
    "fig, axes = plt.subplots(co1.q_len, 1, figsize=(10, 2.*co1.q_len))\n",
    "for j in np.arange(co1.q_len):\n",
    "    axes[j].plot(t_pts, q_vec_11p6[j], color=colors[j])\n",
    "    axes[j].set_xlabel(r'$t$')\n",
    "    axes[j].set_ylabel(fr'$q_{j+1:d}$')\n",
    "    axes[j].set_xlim(t_pts[0], t_pts[-1])\n",
    "    axes[j].axhline(0., color='black', alpha=0.3)\n",
    "overall_title = 'General solution: ' + fr'$A_1 = {A_1:.2f}$, ' + \\\n",
    "                                       fr'$\\delta_1 = {delta_1:.2f}$, ' + \\\n",
    "                                       fr'$A_2 = {A_2:.2f}$, ' + \\\n",
    "                                       fr'$\\delta_2 = {delta_2:.2f}$'  \n",
    "fig.suptitle(overall_title, va='center')\n",
    "fig.tight_layout()\n",
    "\n",
    "\n",
    "print( q_vec_0, q_vec_dot_0 )  # debugging check"
   ]
  },
  {
   "cell_type": "markdown",
   "metadata": {},
   "source": [
    "## Problem 11.5\n",
    "\n",
    "Almost the same as section 11.2, but mass m2 is not attached by a spring to the wall."
   ]
  },
  {
   "cell_type": "code",
   "execution_count": null,
   "metadata": {},
   "outputs": [],
   "source": [
    "m = 1.\n",
    "M_matrix = np.array([ [m, 0.], [0., m] ])\n",
    "print('M matrix: \\n', M_matrix, '\\n')\n",
    "\n",
    "k = 1.\n",
    "K_matrix = np.array([ [2.*k, -k], [-k, k]])\n",
    "print('K matrix: \\n', K_matrix, '\\n')\n",
    "\n",
    "co1 = CoupledOscillators(M_matrix, K_matrix)\n",
    "\n",
    "eig_vals, eig_vecs = co1.find_eigenmodes() # LA.eigh(K_matrix, M_matrix)\n",
    "\n",
    "print(f'omega^2 = {eig_vals}')\n",
    "print(f'frequencies = {co1.frequencies}')"
   ]
  },
  {
   "cell_type": "code",
   "execution_count": null,
   "metadata": {
    "scrolled": true
   },
   "outputs": [],
   "source": [
    "print(eig_vecs[:,0])\n",
    "print(eig_vecs[:,1])"
   ]
  },
  {
   "cell_type": "code",
   "execution_count": null,
   "metadata": {},
   "outputs": [],
   "source": [
    "t_start = 0.\n",
    "t_end = 10.\n",
    "delta_t = 0.001\n",
    "\n",
    "t_pts = np.arange(t_start, t_end+delta_t, delta_t)  \n",
    "co1.plot_eigenmodes(t_pts)"
   ]
  },
  {
   "cell_type": "markdown",
   "metadata": {},
   "source": [
    "## Problem 11.7\n",
    "\n",
    "Writing the general solution to the cart problem in Section 11.2 in a different form and plot two solutions."
   ]
  },
  {
   "cell_type": "code",
   "execution_count": null,
   "metadata": {},
   "outputs": [],
   "source": [
    "m = 1.\n",
    "M_matrix = np.array([ [m, 0.], [0., m] ])\n",
    "print('M matrix: \\n', M_matrix, '\\n')\n",
    "\n",
    "k = 1.\n",
    "K_matrix = np.array([ [2.*k, -k], [-k, 2.*k]])\n",
    "print('K matrix: \\n', K_matrix, '\\n')\n",
    "\n",
    "co1 = CoupledOscillators(M_matrix, K_matrix)\n",
    "\n",
    "eig_vals, eig_vecs = co1.find_eigenmodes() # LA.eigh(K_matrix, M_matrix)\n",
    "\n",
    "print(f'omega^2 = {eig_vals}')\n",
    "print(f'frequencies = {co1.frequencies}')"
   ]
  },
  {
   "cell_type": "code",
   "execution_count": null,
   "metadata": {},
   "outputs": [],
   "source": [
    "t_start = 0.\n",
    "t_end = 30.\n",
    "delta_t = 0.001\n",
    "\n",
    "t_pts = np.arange(t_start, t_end+delta_t, delta_t)  "
   ]
  },
  {
   "cell_type": "code",
   "execution_count": null,
   "metadata": {},
   "outputs": [],
   "source": [
    "colors = ['blue', 'green', 'red', 'purple']\n",
    "\n",
    "# changing A -> -A to match convention in Taylor\n",
    "A = -1.\n",
    "B_1 = A\n",
    "B_2 = 0.\n",
    "C_1 = 0.\n",
    "C_2 = 0.\n",
    "\n",
    "omega_1 = co1.frequencies[0]\n",
    "omega_2 = co1.frequencies[1]\n",
    "\n",
    "q_vec_0 = B_1 * eig_vecs[:,0] + \\\n",
    "          B_2 * eig_vecs[:,1] \n",
    "q_vec_dot_0 = omega_1 * C_1 * eig_vecs[:,0] + \\\n",
    "              omega_2 * C_2 * eig_vecs[:,1]\n",
    "q_vec_11p7a, q_vec_dot_11p7a = co1.solve_ode(t_pts, q_vec_0, q_vec_dot_0)\n",
    "\n",
    "fig, axes = plt.subplots(co1.q_len, 1, figsize=(10, 2.*co1.q_len))\n",
    "for j in np.arange(co1.q_len):\n",
    "    axes[j].plot(t_pts, q_vec_11p7a[j], color=colors[j])\n",
    "    axes[j].set_xlabel(r'$t$')\n",
    "    axes[j].set_ylabel(fr'$q_{j+1:d}$')\n",
    "    axes[j].set_xlim(t_pts[0], t_pts[-1])\n",
    "    axes[j].axhline(0., color='black', alpha=0.3)\n",
    "overall_title = 'Specific solution 1: ' + fr'$B_1 = {B_1:.2f}$, ' + \\\n",
    "                                          fr'$C_1 = {C_1:.2f}$, ' + \\\n",
    "                                          fr'$B_2 = {B_2:.2f}$, ' + \\\n",
    "                                          fr'$C_2 = {C_2:.2f}$'  \n",
    "fig.suptitle(overall_title, va='center')\n",
    "fig.tight_layout()\n",
    "\n",
    "\n",
    "print( q_vec_0, q_vec_dot_0 )  # debugging check"
   ]
  },
  {
   "cell_type": "code",
   "execution_count": null,
   "metadata": {},
   "outputs": [],
   "source": [
    "colors = ['blue', 'green', 'red', 'purple']\n",
    "\n",
    "# changing A -> -A to match convention in Taylor\n",
    "A = -1.\n",
    "B_1 = A / 2.\n",
    "B_2 = A / 2.\n",
    "C_1 = 0.\n",
    "C_2 = 0.\n",
    "\n",
    "omega_1 = co1.frequencies[0]\n",
    "omega_2 = co1.frequencies[1]\n",
    "\n",
    "q_vec_0 = B_1 * eig_vecs[:,0] + \\\n",
    "          B_2 * eig_vecs[:,1] \n",
    "q_vec_dot_0 = omega_1 * C_1 * eig_vecs[:,0] + \\\n",
    "              omega_2 * C_2 * eig_vecs[:,1]\n",
    "q_vec_11p7a, q_vec_dot_11p7a = co1.solve_ode(t_pts, q_vec_0, q_vec_dot_0)\n",
    "\n",
    "fig, axes = plt.subplots(co1.q_len, 1, figsize=(10, 2.*co1.q_len))\n",
    "for j in np.arange(co1.q_len):\n",
    "    axes[j].plot(t_pts, q_vec_11p7a[j], color=colors[j])\n",
    "    axes[j].set_xlabel(r'$t$')\n",
    "    axes[j].set_ylabel(fr'$q_{j+1:d}$')\n",
    "    axes[j].set_xlim(t_pts[0], t_pts[-1])\n",
    "    axes[j].axhline(0., color='black', alpha=0.3)\n",
    "overall_title = 'Specific solution 1: ' + fr'$B_1 = {B_1:.2f}$, ' + \\\n",
    "                                          fr'$C_1 = {C_1:.2f}$, ' + \\\n",
    "                                          fr'$B_2 = {B_2:.2f}$, ' + \\\n",
    "                                          fr'$C_2 = {C_2:.2f}$'  \n",
    "fig.suptitle(overall_title, va='center')\n",
    "fig.tight_layout()\n",
    "\n",
    "\n",
    "print( q_vec_0, q_vec_dot_0 )  # debugging check"
   ]
  },
  {
   "cell_type": "code",
   "execution_count": null,
   "metadata": {},
   "outputs": [],
   "source": []
  },
  {
   "cell_type": "code",
   "execution_count": null,
   "metadata": {},
   "outputs": [],
   "source": []
  }
 ],
 "metadata": {
  "kernelspec": {
   "display_name": "Python 3",
   "language": "python",
   "name": "python3"
  },
  "language_info": {
   "codemirror_mode": {
    "name": "ipython",
    "version": 3
   },
   "file_extension": ".py",
   "mimetype": "text/x-python",
   "name": "python",
   "nbconvert_exporter": "python",
   "pygments_lexer": "ipython3",
   "version": "3.7.1"
  }
 },
 "nbformat": 4,
 "nbformat_minor": 2
}
